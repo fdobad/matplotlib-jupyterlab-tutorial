{
 "cells": [
  {
   "cell_type": "markdown",
   "metadata": {},
   "source": [
    "# Where are the events?\n",
    "There are 3 sources:\n",
    " 1. ipywidget.observe | click( handler_function( change) ) : [ipywidgets...Widget Events](https://ipywidgets.readthedocs.io/en/latest/examples/Widget%20Events.html)  \n",
    "   Take advantage of change.old|new|name|owner|type event\n",
    " 2. fig.canvas.mpl_connect( 'event_name', handler_function) : [matplotlib...event handling](https://matplotlib.org/3.2.2/users/event_handling.html)  \n",
    "   Out of the box, the available events are:\n",
    "\n",
    "    - 'button_press_event'\n",
    "    - 'button_release_event'\n",
    "    - 'draw_event'\n",
    "    - 'key_press_event'\n",
    "    - 'key_release_event'\n",
    "    - 'motion_notify_event'\n",
    "    - 'pick_event'\n",
    "    - 'resize_event'\n",
    "    - 'scroll_event'\n",
    "    - 'figure_enter_event',\n",
    "    - 'figure_leave_event',\n",
    "    - 'axes_enter_event',\n",
    "    - 'axes_leave_event'\n",
    "    - 'close_event'  \n",
    "    \n",
    "    \n",
    " 3. Navigation Toolbar2 : Not all possible events are implemented in [ipympl...backend_nbagg.py](https://github.com/matplotlib/ipympl/blob/master/ipympl/backend_nbagg.py) , so looking at [matplotlib...NavigationToolbar2](https://matplotlib.org/api/backend_bases_api.html#matplotlib.backend_bases.NavigationToolbar2) events, registered some essential toolbar missing events with mpl connect\n",
    "    - 'home'\n",
    "    - 'back',\n",
    "    - 'forward'\n",
    "    - 'zoom'\n",
    "    - 'release_pan'\n",
    "    - 'release_zoom'\n",
    "    - 'drag_pan',\n",
    "    - 'drag_zoom',  \n",
    "    \n",
    "Others I haven't tried: 'draw', 'draw_rubberband', 'mouse_move', 'pan', 'press', 'press_pan', 'press_zoom', 'push_current', 'release', 'remove_rubberband', 'save_figure', 'set_cursor', 'set_history_buttons', 'set_message', 'toolitems', 'update'  \n",
    "\n",
    "Hacking in the home button pressed:  \n",
    "```python\n",
    "    home = Toolbar.home  \n",
    "    def new_home(self, *args, **kwargs):  \n",
    "        s = 'home_event'                     \n",
    "        event = Event(s, self)  \n",
    "        event.foo = 1                      \n",
    "        self.canvas.callbacks.process(s, event)                        \n",
    "        home(self, *args, **kwargs)\n",
    "    Toolbar.home = new_home            \n",
    "```\n",
    "\n",
    "\n",
    " "
   ]
  },
  {
   "cell_type": "markdown",
   "metadata": {},
   "source": [
    "# Click & Move event (Inside Axes printing in a native text box)"
   ]
  },
  {
   "cell_type": "code",
   "execution_count": 1,
   "metadata": {},
   "outputs": [],
   "source": [
    "%matplotlib tk\n",
    "import matplotlib.pyplot as plt\n",
    "import numpy as np"
   ]
  },
  {
   "cell_type": "code",
   "execution_count": 2,
   "metadata": {},
   "outputs": [],
   "source": [
    "fig, ax = plt.subplots()\n",
    "tb=fig.text(x=0.6,y=0.9,s='place holder')\n",
    "plt.show()"
   ]
  },
  {
   "cell_type": "code",
   "execution_count": 3,
   "metadata": {},
   "outputs": [
    {
     "data": {
      "text/plain": [
       "9"
      ]
     },
     "execution_count": 3,
     "metadata": {},
     "output_type": "execute_result"
    },
    {
     "name": "stdout",
     "output_type": "stream",
     "text": [
      "ENTER\n",
      "PRESS\n",
      "button 1\n",
      "button 1\n",
      "button 1\n",
      "button 1\n",
      "RELEASE\n",
      "LEAVE\n",
      "ENTER\n",
      "PRESS\n",
      "button 3\n",
      "button 3\n",
      "button 3\n",
      "RELEASE\n",
      "LEAVE\n",
      "ENTER\n",
      "PRESS\n",
      "button 1\n",
      "button 1\n",
      "button 1\n",
      "button 1\n",
      "button 1\n",
      "button 1\n",
      "button 1\n",
      "button 1\n",
      "button 1\n",
      "button 1\n",
      "button 1\n",
      "RELEASE\n",
      "LEAVE\n"
     ]
    }
   ],
   "source": [
    "state={ 'pressId':False, 'releaseId':False, 'motionId':False, 'lastx':False, 'lasty':False}\n",
    "\n",
    "def motion_handler(event):\n",
    "    if state['lastx']!=False:\n",
    "        mouse_travel = np.linalg.norm( [ state['lastx'] - event.x, state['lasty'] - event.y ] )\n",
    "        if mouse_travel > 10:\n",
    "            if event.button==1:\n",
    "                print('button 1')\n",
    "                tb.set_text('Button:1, m.travel:{:.3}'.format(mouse_travel))\n",
    "            if event.button==3:\n",
    "                print('button 3')\n",
    "                tb.set_text('Button:3, m.travel:{:.3}'.format(mouse_travel))\n",
    "    state['lastx']=event.x\n",
    "    state['lasty']=event.y\n",
    "    event.canvas.draw()\n",
    "        \n",
    "def button_press_handler(event):\n",
    "    print('PRESS')\n",
    "    state['motionId']  = fig.canvas.mpl_connect('motion_notify_event'  , motion_handler)\n",
    "    state['releaseId'] = fig.canvas.mpl_connect('button_release_event' , button_release_handler)\n",
    "    \n",
    "def button_release_handler(event):\n",
    "    print('RELEASE')\n",
    "    fig.canvas.mpl_disconnect(state['motionId'])\n",
    "    \n",
    "def axes_enter_handler(event):\n",
    "    print('ENTER')\n",
    "    tb.set_text('Press left or right mouse button')\n",
    "    state['pressId'] = fig.canvas.mpl_connect('button_press_event'  , button_press_handler)\n",
    "    event.canvas.draw()\n",
    "\n",
    "def axes_leave_handler(event):\n",
    "    print('LEAVE')\n",
    "    tb.set_text('Left...')\n",
    "    fig.canvas.mpl_disconnect(state['pressId'])\n",
    "    fig.canvas.mpl_disconnect(state['releaseId'])\n",
    "    fig.canvas.mpl_disconnect(state['motionId'])\n",
    "    event.canvas.draw()\n",
    "    \n",
    "fig.canvas.mpl_connect('axes_enter_event',axes_enter_handler)\n",
    "fig.canvas.mpl_connect('axes_leave_event',axes_leave_handler)"
   ]
  },
  {
   "cell_type": "markdown",
   "metadata": {},
   "source": [
    "## get clicks on figure\n",
    "https://matplotlib.org/3.2.2/users/event_handling.html  \n",
    "Don't forget prints are seen on the Log Console (View > Show Log Console), enhancing to INFO or DEBUG level"
   ]
  },
  {
   "cell_type": "code",
   "execution_count": null,
   "metadata": {},
   "outputs": [],
   "source": [
    "# Enabling the `widget` backend.\n",
    "# This requires jupyter-matplotlib a.k.a. ipympl.\n",
    "# ipympl can be install via pip or conda.\n",
    "%matplotlib widget\n",
    "\n",
    "import matplotlib.pyplot as plt\n",
    "import numpy as np"
   ]
  },
  {
   "cell_type": "code",
   "execution_count": null,
   "metadata": {},
   "outputs": [],
   "source": [
    "fig, ax = plt.subplots()\n",
    "fig.canvas.capture_scroll = False\n",
    "ax.plot(np.random.rand(10))\n",
    "\n",
    "def onclick(event):\n",
    "    print('%s click: button=%d, x=%d, y=%d, xdata=%.3f, ydata=%.3f, name=%s' %\n",
    "          ('double' if event.dblclick else 'single', event.button,\n",
    "           event.x, event.y, event.xdata, event.ydata, event.name))\n",
    "\n",
    "def ondraw(event):\n",
    "    # print 'ondraw', event\n",
    "    # these ax.limits can be stored and reused as-is for set_xlim/set_ylim later\n",
    "    print('redraw xlim=%.3f,%.3f ylim=%.3f,%.3f' % (ax.get_xlim()[0], ax.get_xlim()[1], \n",
    "                                                    ax.get_ylim()[0], ax.get_ylim()[1]) )\n",
    "\n",
    "def onbutton(event):\n",
    "    print('button_press_event', event.button, event.name, event.x, event.y, event.xdata, event.ydata, event.name)\n",
    "        \n",
    "cidPress   = fig.canvas.mpl_connect('button_press_event'  , onclick)\n",
    "cidDelease = fig.canvas.mpl_connect('button_release_event', onclick)\n",
    "cidDraw    = fig.canvas.mpl_connect('draw_event', ondraw)\n",
    "cidBP      = fig.canvas.mpl_connect('button_press_event', onbutton)\n",
    "\n",
    "plt.show()"
   ]
  },
  {
   "cell_type": "markdown",
   "metadata": {},
   "source": [
    "## get clicks on toolbar\n",
    "https://stackoverflow.com/questions/14896580/matplotlib-hooking-in-to-home-back-forward-button-events"
   ]
  },
  {
   "cell_type": "code",
   "execution_count": null,
   "metadata": {},
   "outputs": [],
   "source": [
    "import matplotlib.pyplot as plt\n",
    "from matplotlib.backend_bases import NavigationToolbar2\n",
    "\n",
    "home = NavigationToolbar2.home\n",
    "\n",
    "def new_home(self, *args, **kwargs):\n",
    "    print 'new home'\n",
    "    home(self, *args, **kwargs)\n",
    "\n",
    "NavigationToolbar2.home = new_home\n",
    "\n",
    "fig = plt.figure()\n",
    "plt.text(0.35, 0.5, 'Hello world!', dict(size=30))\n",
    "plt.show()"
   ]
  },
  {
   "cell_type": "code",
   "execution_count": null,
   "metadata": {},
   "outputs": [],
   "source": [
    "from matplotlib.backend_bases import NavigationToolbar2, Event\n",
    "\n",
    "home = NavigationToolbar2.home\n",
    "\n",
    "def new_home(self, *args, **kwargs):\n",
    "    s = 'home_event'\n",
    "    event = Event(s, self)\n",
    "    event.foo = 100\n",
    "    self.canvas.callbacks.process(s, event)\n",
    "    home(self, *args, **kwargs)\n",
    "\n",
    "NavigationToolbar2.home = new_home\n",
    "\n",
    "def handle_home(evt):\n",
    "    print('new home')\n",
    "    print(evt.foo)\n",
    "\n",
    "fig = plt.figure()\n",
    "fig.canvas.mpl_connect('home_event', handle_home)\n",
    "plt.text(0.35, 0.5, 'Hello world!', dict(size=30))\n",
    "plt.show()"
   ]
  },
  {
   "cell_type": "markdown",
   "metadata": {},
   "source": [
    "### Now using ipympl"
   ]
  },
  {
   "cell_type": "code",
   "execution_count": null,
   "metadata": {},
   "outputs": [],
   "source": [
    "from matplotlib.backend_bases import Event\n",
    "from ipympl.backend_nbagg import Toolbar\n",
    "\n",
    "#HOME\n",
    "home = Toolbar.home\n",
    "\n",
    "def new_home(self, *args, **kwargs):\n",
    "    s = 'home_event'\n",
    "    event = Event(s, self)\n",
    "    event.foo = 0\n",
    "    self.canvas.callbacks.process(s, event)\n",
    "    home(self, *args, **kwargs)\n",
    "\n",
    "Toolbar.home = new_home\n",
    "\n",
    "def handle_home(evt):\n",
    "    print('new home ',evt.foo)\n",
    "\n",
    "#ZOOM\n",
    "zoom = Toolbar.zoom\n",
    "\n",
    "def new_zoom(self, *args, **kwargs):\n",
    "    s = 'zoom_event'\n",
    "    event = Event(s, self)\n",
    "    event.foo = 1\n",
    "    self.canvas.callbacks.process(s, event)\n",
    "    zoom(self, *args, **kwargs)\n",
    "\n",
    "Toolbar.zoom = new_zoom\n",
    "\n",
    "def handle_zoom(evt):\n",
    "    print('new zoom ' , evt.foo, ax.get_xlim(), ax.get_ylim())\n",
    "\n",
    "#PRESS\n",
    "press_zoom = Toolbar.press_zoom\n",
    "\n",
    "def new_press_zoom(self, *args, **kwargs):\n",
    "    s = 'press_zoom_event'\n",
    "    event = Event(s, self)\n",
    "    event.foo = 2\n",
    "    self.canvas.callbacks.process(s, event)\n",
    "    press_zoom(self, *args, **kwargs)\n",
    "\n",
    "Toolbar.press_zoom = new_press_zoom\n",
    "\n",
    "def handle_press_zoom(evt):\n",
    "    print('new press_zoom ' , evt.foo, ax.get_xlim(), ax.get_ylim())\n",
    "\n",
    "#release\n",
    "release_zoom = Toolbar.release_zoom\n",
    "\n",
    "def new_release_zoom(self, *args, **kwargs):\n",
    "    s = 'release_zoom_event'\n",
    "    event = Event(s, self)\n",
    "    event.foo = 3\n",
    "    self.canvas.callbacks.process(s, event)\n",
    "    release_zoom(self, *args, **kwargs)\n",
    "\n",
    "Toolbar.release_zoom = new_release_zoom\n",
    "\n",
    "def handle_release_zoom(evt):\n",
    "    print('new release_zoom ' , evt.foo, ax.get_xlim(), ax.get_ylim())\n",
    "\n",
    "def onclick(event):\n",
    "    print('%s click: button=%d, x=%d, y=%d, xdata=%.3f, ydata=%.3f, name=%s' %\n",
    "          ('double' if event.dblclick else 'single', event.button,\n",
    "           event.x, event.y, event.xdata, event.ydata, event.name))    \n",
    "\n",
    "fig, ax = plt.subplots()\n",
    "\n",
    "fig.canvas.mpl_connect('home_event', handle_home)\n",
    "fig.canvas.mpl_connect('zoom_event', handle_zoom)\n",
    "fig.canvas.mpl_connect('press_zoom_event', handle_press_zoom)\n",
    "fig.canvas.mpl_connect('release_zoom_event', handle_release_zoom)\n",
    "cidPress   = fig.canvas.mpl_connect('button_press_event'  , onclick)\n",
    "cidDelease = fig.canvas.mpl_connect('button_release_event', onclick)\n",
    "\n",
    "ax.plot(np.random.rand(10))\n",
    "plt.text(0.35, 0.5, 'Hello world!', dict(size=30))\n",
    "plt.show()"
   ]
  },
  {
   "cell_type": "markdown",
   "metadata": {},
   "source": [
    "### get zoom to what? draw event"
   ]
  },
  {
   "cell_type": "code",
   "execution_count": null,
   "metadata": {},
   "outputs": [],
   "source": [
    "from matplotlib import pyplot as plt\n",
    "import numpy\n",
    "\n",
    "fig = plt.figure()\n",
    "ax = fig.add_subplot(111)\n",
    "ax.plot(numpy.random.rand(10))\n",
    "\n",
    "def ondraw(event):\n",
    "    # print 'ondraw', event\n",
    "    # these ax.limits can be stored and reused as-is for set_xlim/set_ylim later\n",
    "    print(ax.get_xlim(), ax.get_ylim())\n",
    "\n",
    "cid = fig.canvas.mpl_connect('draw_event', ondraw)\n",
    "\n",
    "plt.show()"
   ]
  },
  {
   "cell_type": "code",
   "execution_count": null,
   "metadata": {},
   "outputs": [],
   "source": [
    "from matplotlib.backend_bases import NavigationToolbar2 as t\n",
    "from matplotlib.backends.backend_webagg_core import NavigationToolbar2WebAgg as t2\n",
    "display(dir(t),dir(t2))"
   ]
  },
  {
   "cell_type": "markdown",
   "metadata": {},
   "source": [
    "# Connect ~all~ most of the widget toolbar"
   ]
  },
  {
   "cell_type": "code",
   "execution_count": 3,
   "metadata": {},
   "outputs": [
    {
     "data": {
      "application/vnd.jupyter.widget-view+json": {
       "model_id": "be9a0d0229ac4c19a3158a65dab72e64",
       "version_major": 2,
       "version_minor": 0
      },
      "text/plain": [
       "Canvas(toolbar=Toolbar(toolitems=[('Home', 'Reset original view', 'home', 'home'), ('Back', 'Back to previous …"
      ]
     },
     "metadata": {},
     "output_type": "display_data"
    }
   ],
   "source": [
    "%matplotlib widget\n",
    "import matplotlib.pyplot as plt\n",
    "from matplotlib.backend_bases import Event\n",
    "from ipympl.backend_nbagg import Toolbar\n",
    "\n",
    "#HOME\n",
    "home = Toolbar.home\n",
    "\n",
    "def new_home(self, *args, **kwargs):\n",
    "    s = 'home_event'\n",
    "    event = Event(s, self)\n",
    "    event.foo = 0\n",
    "    self.canvas.callbacks.process(s, event)\n",
    "    home(self, *args, **kwargs)\n",
    "\n",
    "Toolbar.home = new_home\n",
    "\n",
    "def handle_home(evt):\n",
    "    print('new home ',evt.foo)\n",
    "\n",
    "#ZOOM\n",
    "zoom = Toolbar.zoom\n",
    "\n",
    "def new_zoom(self, *args, **kwargs):\n",
    "    s = 'zoom_event'\n",
    "    event = Event(s, self)\n",
    "    event.foo = 1\n",
    "    self.canvas.callbacks.process(s, event)\n",
    "    zoom(self, *args, **kwargs)\n",
    "\n",
    "Toolbar.zoom = new_zoom\n",
    "\n",
    "def handle_zoom(evt):\n",
    "    print('new zoom ' , evt.foo, ax.get_xlim(), ax.get_ylim())\n",
    "\n",
    "#PRESS\n",
    "press_zoom = Toolbar.press_zoom\n",
    "\n",
    "def new_press_zoom(self, *args, **kwargs):\n",
    "    s = 'press_zoom_event'\n",
    "    event = Event(s, self)\n",
    "    event.foo = 2\n",
    "    self.canvas.callbacks.process(s, event)\n",
    "    press_zoom(self, *args, **kwargs)\n",
    "\n",
    "Toolbar.press_zoom = new_press_zoom\n",
    "\n",
    "def handle_press_zoom(evt):\n",
    "    print('new press_zoom ' , evt.foo, ax.get_xlim(), ax.get_ylim())\n",
    "\n",
    "#release\n",
    "release_zoom = Toolbar.release_zoom\n",
    "\n",
    "def new_release_zoom(self, *args, **kwargs):\n",
    "    s = 'release_zoom_event'\n",
    "    event = Event(s, self)\n",
    "    event.foo = 3\n",
    "    self.canvas.callbacks.process(s, event)\n",
    "    release_zoom(self, *args, **kwargs)\n",
    "\n",
    "Toolbar.release_zoom = new_release_zoom\n",
    "\n",
    "def handle_release_zoom(evt):\n",
    "    print('new release_zoom ' , evt.foo, ax.get_xlim(), ax.get_ylim())\n",
    "\n",
    "def onclick(event):\n",
    "    print('%s click: button=%d, x=%d, y=%d, xdata=%.3f, ydata=%.3f, name=%s' %\n",
    "          ('double' if event.dblclick else 'single', event.button,\n",
    "           event.x, event.y, event.xdata, event.ydata, event.name))    \n",
    "\n",
    "fig, ax = plt.subplots()\n",
    "\n",
    "fig.canvas.mpl_connect('home_event', handle_home)\n",
    "fig.canvas.mpl_connect('zoom_event', handle_zoom)\n",
    "fig.canvas.mpl_connect('press_zoom_event', handle_press_zoom)\n",
    "fig.canvas.mpl_connect('release_zoom_event', handle_release_zoom)\n",
    "cidPress   = fig.canvas.mpl_connect('button_press_event'  , onclick)\n",
    "cidDelease = fig.canvas.mpl_connect('button_release_event', onclick)\n",
    "import numpy as np\n",
    "ax.plot(np.random.rand(10))\n",
    "plt.text(0.35, 0.5, 'Hello world!', dict(size=30))\n",
    "plt.show()"
   ]
  },
  {
   "cell_type": "code",
   "execution_count": 2,
   "metadata": {},
   "outputs": [],
   "source": [
    "import matplotlib_ipywidgets_events as mwe"
   ]
  },
  {
   "cell_type": "markdown",
   "metadata": {},
   "source": [
    "## Showcasing connected toolbar to events"
   ]
  },
  {
   "cell_type": "code",
   "execution_count": 3,
   "metadata": {},
   "outputs": [
    {
     "data": {
      "application/vnd.jupyter.widget-view+json": {
       "model_id": "a92f35eeee84423e868c55bedba61283",
       "version_major": 2,
       "version_minor": 0
      },
      "text/plain": [
       "App1(children=(VBox(children=(Label(value='Hello Title!', layout=Layout(align_self='center')), IntSlider(value…"
      ]
     },
     "metadata": {},
     "output_type": "display_data"
    }
   ],
   "source": [
    "a = mwe.App1()\n",
    "a"
   ]
  },
  {
   "cell_type": "markdown",
   "metadata": {},
   "source": [
    "## Showcasing pick data event"
   ]
  },
  {
   "cell_type": "code",
   "execution_count": 4,
   "metadata": {},
   "outputs": [
    {
     "data": {
      "application/vnd.jupyter.widget-view+json": {
       "model_id": "6b0335328ebb412cbfb2a68f58683ccd",
       "version_major": 2,
       "version_minor": 0
      },
      "text/plain": [
       "App2(children=(VBox(children=(Label(value='El título es', layout=Layout(align_self='center')), IntSlider(value…"
      ]
     },
     "metadata": {},
     "output_type": "display_data"
    }
   ],
   "source": [
    "b=mwe.App2()\n",
    "b"
   ]
  },
  {
   "cell_type": "code",
   "execution_count": null,
   "metadata": {},
   "outputs": [],
   "source": []
  }
 ],
 "metadata": {
  "kernelspec": {
   "display_name": "Python 3",
   "language": "python",
   "name": "python3"
  },
  "language_info": {
   "codemirror_mode": {
    "name": "ipython",
    "version": 3
   },
   "file_extension": ".py",
   "mimetype": "text/x-python",
   "name": "python",
   "nbconvert_exporter": "python",
   "pygments_lexer": "ipython3",
   "version": "3.7.3"
  },
  "widgets": {
   "application/vnd.jupyter.widget-state+json": {
    "state": {},
    "version_major": 2,
    "version_minor": 0
   }
  }
 },
 "nbformat": 4,
 "nbformat_minor": 4
}

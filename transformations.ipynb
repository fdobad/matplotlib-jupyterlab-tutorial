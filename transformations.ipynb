{
 "cells": [
  {
   "cell_type": "markdown",
   "metadata": {},
   "source": [
    "# transforms tutorial"
   ]
  },
  {
   "cell_type": "markdown",
   "metadata": {},
   "source": [
    "## screen size? 305dpi?"
   ]
  },
  {
   "cell_type": "code",
   "execution_count": null,
   "metadata": {},
   "outputs": [],
   "source": [
    "def getAxesSizePx(fig, ax):\n",
    "    bbox = ax.get_window_extent().transformed(fig.dpi_scale_trans.inverted())\n",
    "    width, height = int(bbox.width*fig.dpi), int(bbox.height*fig.dpi)\n",
    "    return width, height\n",
    "\n",
    "\n",
    "matplotlib.rcParams['figure.dpi'] = 305"
   ]
  },
  {
   "cell_type": "code",
   "execution_count": null,
   "metadata": {},
   "outputs": [],
   "source": [
    "import numpy as np\n",
    "np.sqrt(3400**2+1800**2)/13."
   ]
  },
  {
   "cell_type": "code",
   "execution_count": null,
   "metadata": {},
   "outputs": [],
   "source": [
    "fig, ax = plt.subplots()\n",
    "ax.text(0.5,0.5,'hello')"
   ]
  },
  {
   "cell_type": "code",
   "execution_count": null,
   "metadata": {},
   "outputs": [],
   "source": [
    "fig.dpi"
   ]
  },
  {
   "cell_type": "markdown",
   "metadata": {},
   "source": [
    "## data <-> display (screen) : coordinates transforms"
   ]
  },
  {
   "cell_type": "code",
   "execution_count": null,
   "metadata": {},
   "outputs": [],
   "source": [
    "%matplotlib widget\n",
    "from matplotlib import cm, pyplot as plt\n",
    "import numpy as np\n",
    "\n",
    "x = np.arange(0, 10, 0.005)\n",
    "y = np.exp(-x/2.) * np.sin(2*np.pi*x)\n",
    "\n",
    "fig, ax = plt.subplots()\n",
    "ax.plot(x, y)\n",
    "ax.set_xlim(0, 10)\n",
    "ax.set_ylim(-1, 1)\n",
    "\n",
    "xdata, ydata = 5, 0\n",
    "xdisplay, ydisplay = ax.transData.transform((xdata, ydata))\n",
    "# ax.transData instance to transform from your data to your display\n",
    "\n",
    "inv = ax.transData.inverted()\n",
    "xdataInv,ydataInv = inv.transform((xdisplay, ydisplay))\n",
    "# ax.transData.inverted() instance to transform from your display to your data\n",
    "\n",
    "assert (np.round([xdataInv,ydataInv],15)==np.round([xdata,ydata],15)).all() , 'All is bad'\n",
    "\n",
    "bbox = dict(boxstyle=\"round\", fc=\"0.8\")\n",
    "arrowprops = dict(\n",
    "    arrowstyle=\"->\",\n",
    "    connectionstyle=\"angle,angleA=0,angleB=90,rad=10\")\n",
    "\n",
    "offset = 72\n",
    "ax.annotate('data = (%.1f, %.1f)' % (xdata, ydata),\n",
    "            (xdata, ydata), xytext=(-2*offset, offset), textcoords='offset points',\n",
    "            bbox=bbox, arrowprops=arrowprops)\n",
    "\n",
    "disp = ax.annotate('display = (%.1f, %.1f)' % (xdisplay, ydisplay),\n",
    "               #(xdisplay, ydisplay), xytext=(0.5*offset, -offset),\n",
    "                (xdata, ydata), xytext=(0.5*offset, -offset),   \n",
    "               #xycoords='figure pixels',\n",
    "                xycoords=ax.transData,\n",
    "               textcoords='offset points',\n",
    "               bbox=bbox, arrowprops=arrowprops)\n",
    "\n",
    "def onresize(event):\n",
    "    xdisplay, ydisplay = ax.transData.transform((xdata, ydata))\n",
    "    disp._text='Re_display = (%.1f, %.1f)' % (xdisplay, ydisplay)\n",
    "    disp.set_text='Not working'\n",
    "    disp.text='Working less'\n",
    "    # .text or .set_text doesn't do anything!\n",
    "\n",
    "cid = fig.canvas.mpl_connect('resize_event', onresize)\n",
    "\n",
    "plt.show()"
   ]
  },
  {
   "cell_type": "markdown",
   "metadata": {},
   "source": [
    "# Axes"
   ]
  },
  {
   "cell_type": "code",
   "execution_count": null,
   "metadata": {},
   "outputs": [],
   "source": [
    "fig = plt.figure()\n",
    "for i, label in enumerate(('A', 'B', 'C', 'D')):\n",
    "    ax = fig.add_subplot(2, 2, i+1)\n",
    "    #ax.text(0.05, 0.95, label, transform=ax.transAxes,\n",
    "    ax.text(0.25+i/10, 0.5+i/10, label, transform=fig.transFigure, #ax.transAxes\n",
    "            fontsize=16, fontweight='bold', va='top')\n",
    "\n",
    "plt.show()"
   ]
  },
  {
   "cell_type": "code",
   "execution_count": null,
   "metadata": {},
   "outputs": [],
   "source": [
    "import numpy as np\n",
    "from matplotlib import pyplot as plt\n",
    "from matplotlib.patches import Circle\n",
    "\n",
    "fig, (ax1,ax2) = plt.subplots(1,2)\n",
    "x, y = 10*np.random.rand(2, 1000)\n",
    "ax1.plot(x, y, 'go', alpha=0.2)  # plot some data in data coordinates\n",
    "\n",
    "circ = Circle((0.5, 0.5), 0.25, transform=fig.transFigure,#ax2.transAxes,#\n",
    "                       facecolor='blue', alpha=0.75)\n",
    "ax2.add_patch(circ)\n",
    "plt.show()"
   ]
  },
  {
   "cell_type": "code",
   "execution_count": null,
   "metadata": {},
   "outputs": [],
   "source": [
    "fig.canvas.draw()"
   ]
  },
  {
   "cell_type": "code",
   "execution_count": null,
   "metadata": {},
   "outputs": [],
   "source": [
    "fig.clf()"
   ]
  },
  {
   "cell_type": "code",
   "execution_count": null,
   "metadata": {},
   "outputs": [],
   "source": [
    "plt.close()"
   ]
  },
  {
   "cell_type": "markdown",
   "metadata": {},
   "source": [
    "## matplotlib/examples/images_contours_and_fields/affine_image.py"
   ]
  },
  {
   "cell_type": "code",
   "execution_count": 13,
   "metadata": {
    "jupyter": {
     "source_hidden": true
    }
   },
   "outputs": [
    {
     "data": {
      "application/vnd.jupyter.widget-view+json": {
       "model_id": "ed885b66daf24ef28344dadde64519de",
       "version_major": 2,
       "version_minor": 0
      },
      "text/plain": [
       "Canvas(header_visible=False, layout=Layout(grid_area='center', min_height='400px'), toolbar=Toolbar(toolitems=…"
      ]
     },
     "metadata": {},
     "output_type": "display_data"
    },
    {
     "data": {
      "application/vnd.jupyter.widget-view+json": {
       "model_id": "a3862127300b49f9a2720cc5012c80d1",
       "version_major": 2,
       "version_minor": 0
      },
      "text/plain": [
       "Canvas(toolbar=Toolbar(toolitems=[('Home', 'Reset original view', 'home', 'home'), ('Back', 'Back to previous …"
      ]
     },
     "metadata": {},
     "output_type": "display_data"
    }
   ],
   "source": [
    "import numpy as np\n",
    "import matplotlib.pyplot as plt\n",
    "import matplotlib.transforms as mtransforms\n",
    "\n",
    "\n",
    "def get_image():\n",
    "    delta = 0.25\n",
    "    x = y = np.arange(-3.0, 3.0, delta)\n",
    "    X, Y = np.meshgrid(x, y)\n",
    "    Z1 = np.exp(-X**2 - Y**2)\n",
    "    Z2 = np.exp(-(X - 1)**2 - (Y - 1)**2)\n",
    "    Z = (Z1 - Z2)\n",
    "    return Z\n",
    "\n",
    "\n",
    "def do_plot(ax, Z, transform):\n",
    "    im = ax.imshow(Z, interpolation='none',\n",
    "                   origin='lower',\n",
    "                   extent=[-2, 4, -3, 2], clip_on=True)\n",
    "\n",
    "    trans_data = transform + ax.transData\n",
    "    im.set_transform(trans_data)\n",
    "\n",
    "    # display intended extent of the image\n",
    "    x1, x2, y1, y2 = im.get_extent()\n",
    "    ax.plot([x1, x2, x2, x1, x1], [y1, y1, y2, y2, y1], \"y--\",\n",
    "            transform=trans_data)\n",
    "    ax.set_xlim(-5, 5)\n",
    "    ax.set_ylim(-4, 4)\n",
    "\n",
    "\n",
    "# prepare image and figure\n",
    "fig, ((ax1, ax2), (ax3, ax4)) = plt.subplots(2, 2)\n",
    "Z = get_image()\n",
    "\n",
    "# image rotation\n",
    "do_plot(ax1, Z, mtransforms.Affine2D().rotate_deg(30))\n",
    "\n",
    "# image skew\n",
    "do_plot(ax2, Z, mtransforms.Affine2D().skew_deg(30, 15))\n",
    "\n",
    "# scale and reflection\n",
    "do_plot(ax3, Z, mtransforms.Affine2D().scale(-1, .5))\n",
    "\n",
    "# everything and a translation\n",
    "do_plot(ax4, Z, mtransforms.Affine2D().\n",
    "        rotate_deg(30).skew_deg(30, 15).scale(-1, .5).translate(.5, -1))\n",
    "\n",
    "plt.show()"
   ]
  },
  {
   "cell_type": "markdown",
   "metadata": {},
   "source": [
    "## without rotation"
   ]
  },
  {
   "cell_type": "code",
   "execution_count": 14,
   "metadata": {
    "jupyter": {
     "source_hidden": true
    }
   },
   "outputs": [
    {
     "data": {
      "application/vnd.jupyter.widget-view+json": {
       "model_id": "12316718965f4bd080cea2c1fc12ccb4",
       "version_major": 2,
       "version_minor": 0
      },
      "text/plain": [
       "Canvas(toolbar=Toolbar(toolitems=[('Home', 'Reset original view', 'home', 'home'), ('Back', 'Back to previous …"
      ]
     },
     "metadata": {},
     "output_type": "display_data"
    }
   ],
   "source": [
    "import numpy as np\n",
    "import matplotlib.pyplot as plt\n",
    "\n",
    "\n",
    "def get_image():\n",
    "    delta = 0.25\n",
    "    x = y = np.arange(-3.0, 3.0, delta)\n",
    "    X, Y = np.meshgrid(x, y)\n",
    "    Z1 = np.exp(-X**2 - Y**2)\n",
    "    Z2 = np.exp(-(X - 1)**2 - (Y - 1)**2)\n",
    "    Z = (Z1 - Z2)\n",
    "    return Z\n",
    "\n",
    "\n",
    "def do_plot(ax, Z):\n",
    "    im = ax.imshow(Z, interpolation='none',\n",
    "                   origin='lower',\n",
    "                   extent=[-2, 4, -3, 2], clip_on=True)\n",
    "\n",
    "    # display intended extent of the image\n",
    "    x1, x2, y1, y2 = im.get_extent()\n",
    "    ax.plot([x1, x2, x2, x1, x1], [y1, y1, y2, y2, y1] )\n",
    "    ax.set_xlim(-5, 5)\n",
    "    ax.set_ylim(-4, 4)\n",
    "\n",
    "\n",
    "# prepare image and figure\n",
    "\n",
    "fig = plt.figure()\n",
    "ax = fig.add_subplot(111)\n",
    "Z = get_image()\n",
    "\n",
    "do_plot(ax, Z)\n",
    "\n",
    "plt.show()"
   ]
  }
 ],
 "metadata": {
  "jupytext": {
   "cell_metadata_filter": "-all",
   "main_language": "python",
   "notebook_metadata_filter": "-all"
  },
  "kernelspec": {
   "display_name": "Python 3",
   "language": "python",
   "name": "python3"
  },
  "language_info": {
   "codemirror_mode": {
    "name": "ipython",
    "version": 3
   },
   "file_extension": ".py",
   "mimetype": "text/x-python",
   "name": "python",
   "nbconvert_exporter": "python",
   "pygments_lexer": "ipython3",
   "version": "3.7.3"
  },
  "widgets": {
   "application/vnd.jupyter.widget-state+json": {
    "state": {},
    "version_major": 2,
    "version_minor": 0
   }
  }
 },
 "nbformat": 4,
 "nbformat_minor": 4
}

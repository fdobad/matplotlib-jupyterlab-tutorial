{
 "cells": [
  {
   "cell_type": "raw",
   "metadata": {},
   "source": [
    "!pip install mpl_interactions"
   ]
  },
  {
   "cell_type": "code",
   "execution_count": 1,
   "metadata": {},
   "outputs": [],
   "source": [
    "%matplotlib ipympl\n",
    "import matplotlib.pyplot as plt\n",
    "import numpy as np\n",
    "from mpl_interactions import interactive_plot, interactive_plot_factory, heatmap_slicer\n",
    "import ipywidgets as widgets"
   ]
  },
  {
   "cell_type": "markdown",
   "metadata": {},
   "source": [
    "# One function"
   ]
  },
  {
   "cell_type": "code",
   "execution_count": null,
   "metadata": {},
   "outputs": [],
   "source": [
    "x = np.linspace(0,np.pi,100)\n",
    "τ = np.linspace(1,10,100)\n",
    "β = np.linspace(1,10,100)\n",
    "def f(x, τ, β):\n",
    "    return np.sin(x*τ)*x**β\n",
    "fig, ax, sliders = interactive_plot(f, x=x, τ = τ, β = β)"
   ]
  },
  {
   "cell_type": "markdown",
   "metadata": {},
   "source": [
    "# Function List"
   ]
  },
  {
   "cell_type": "code",
   "execution_count": null,
   "metadata": {},
   "outputs": [],
   "source": [
    "x = np.linspace(0,np.pi,100)\n",
    "τ = np.linspace(.5, 10, 100)\n",
    "β = np.linspace(1, 10, 100)\n",
    "def f1(x, τ, β):\n",
    "    return np.sin(x*τ)*x*β\n",
    "def f2(x, τ, β):\n",
    "    return np.sin(x*β)*x*τ\n",
    "fig, ax, sliders = interactive_plot([f1, f2], x=x, τ = τ, β = β)\n",
    "plt.legend()"
   ]
  },
  {
   "cell_type": "markdown",
   "metadata": {},
   "source": [
    "# Heatmap mandelbrot fractal"
   ]
  },
  {
   "cell_type": "code",
   "execution_count": 2,
   "metadata": {},
   "outputs": [],
   "source": [
    "n=300\n",
    "mI=15\n",
    "x = np.linspace(-2,2,n)\n",
    "y = np.linspace(-2,2,n)\n",
    "X,Y = np.meshgrid(x,y)\n",
    "\n",
    "def mandelbrot(x, y, mI):\n",
    "    c=0\n",
    "    z=np.complex(real=x,imag=y)\n",
    "    c=z\n",
    "    for i in range(mI):\n",
    "        if z.real**2+z.imag**2 >= 4:\n",
    "            break\n",
    "        else:\n",
    "            z = z*z + c\n",
    "    return i\n",
    "\n",
    "data1=np.zeros((n,n))\n",
    "for i,vx in enumerate(x):\n",
    "    for j,vy in enumerate(y):\n",
    "        data1[i][j]=mandelbrot(vx,vy,mI)"
   ]
  },
  {
   "cell_type": "raw",
   "metadata": {},
   "source": [
    "x,y,data1"
   ]
  },
  {
   "cell_type": "code",
   "execution_count": 3,
   "metadata": {
    "collapsed": true,
    "jupyter": {
     "outputs_hidden": true
    }
   },
   "outputs": [
    {
     "data": {
      "application/vnd.jupyter.widget-view+json": {
       "model_id": "41749b4eb86c46348cf84ed61abfb2c4",
       "version_major": 2,
       "version_minor": 0
      },
      "text/plain": [
       "Canvas(toolbar=Toolbar(toolitems=[('Home', 'Reset original view', 'home', 'home'), ('Back', 'Back to previous …"
      ]
     },
     "metadata": {},
     "output_type": "display_data"
    },
    {
     "name": "stderr",
     "output_type": "stream",
     "text": [
      "/home/fdo/Source/py3env/lib/python3.7/site-packages/mpl_interactions/generic.py:89: MatplotlibDeprecationWarning: shading='flat' when X and Y have the same dimensions as C is deprecated since 3.3.  Either specify the corners of the quadrilaterals with X and Y, or pass shading='auto', 'nearest' or 'gouraud', or set rcParams['pcolor.shading'].  This will become an error two minor releases later.\n",
      "  ax.pcolormesh(X,Y,heatmaps[i])\n"
     ]
    }
   ],
   "source": [
    "fig,axes = heatmap_slicer(x,y,(data1),slices='both',heatmap_names=('mandelbrot'),figsize=(24, 8),labels=('Some wild X variable'),interaction_type='move')"
   ]
  },
  {
   "cell_type": "code",
   "execution_count": 9,
   "metadata": {},
   "outputs": [
    {
     "data": {
      "text/plain": [
       "['__builtins__',\n",
       " '__cached__',\n",
       " '__doc__',\n",
       " '__file__',\n",
       " '__loader__',\n",
       " '__name__',\n",
       " '__package__',\n",
       " '__path__',\n",
       " '__spec__',\n",
       " 'figure',\n",
       " 'generic',\n",
       " 'heatmap_slicer',\n",
       " 'interactive_plot',\n",
       " 'interactive_plot_factory',\n",
       " 'ioff',\n",
       " 'jupyter',\n",
       " 'nearest_idx',\n",
       " 'panhandler',\n",
       " 'utils',\n",
       " 'zoom_factory']"
      ]
     },
     "execution_count": 9,
     "metadata": {},
     "output_type": "execute_result"
    }
   ],
   "source": [
    "import mpl_interactions\n",
    "dir(mpl_interactions)"
   ]
  },
  {
   "cell_type": "code",
   "execution_count": 10,
   "metadata": {},
   "outputs": [
    {
     "data": {
      "text/plain": [
       "\u001b[0;31mSignature:\u001b[0m \u001b[0mmpl_interactions\u001b[0m\u001b[0;34m.\u001b[0m\u001b[0mnearest_idx\u001b[0m\u001b[0;34m(\u001b[0m\u001b[0marray\u001b[0m\u001b[0;34m,\u001b[0m \u001b[0mvalue\u001b[0m\u001b[0;34m,\u001b[0m \u001b[0maxis\u001b[0m\u001b[0;34m=\u001b[0m\u001b[0;32mNone\u001b[0m\u001b[0;34m)\u001b[0m\u001b[0;34m\u001b[0m\u001b[0;34m\u001b[0m\u001b[0m\n",
       "\u001b[0;31mDocstring:\u001b[0m\n",
       "Return the index of the array that is closest to value. Equivalent to\n",
       "`np.argmin(np.abs(array-value))`\n",
       "\n",
       "Parameters\n",
       "----------\n",
       "array : arraylike\n",
       "value : Scalar\n",
       "axis  : int, optional\n",
       "    From np.argmin: \"By default, the index is into the flattened array, otherwise\n",
       "    along the specified axis.\"\n",
       "\n",
       "Returns\n",
       "-------\n",
       "idx : IndexArray\n",
       "    index of array that most closely matches value. If axis=None this will be an integer\n",
       "\u001b[0;31mFile:\u001b[0m      ~/Source/py3env/lib/python3.7/site-packages/mpl_interactions/utils.py\n",
       "\u001b[0;31mType:\u001b[0m      function\n"
      ]
     },
     "metadata": {},
     "output_type": "display_data"
    }
   ],
   "source": [
    "mpl_interactions.nearest_idx?"
   ]
  },
  {
   "cell_type": "code",
   "execution_count": null,
   "metadata": {},
   "outputs": [],
   "source": []
  }
 ],
 "metadata": {
  "kernelspec": {
   "display_name": "Python 3",
   "language": "python",
   "name": "python3"
  },
  "language_info": {
   "codemirror_mode": {
    "name": "ipython",
    "version": 3
   },
   "file_extension": ".py",
   "mimetype": "text/x-python",
   "name": "python",
   "nbconvert_exporter": "python",
   "pygments_lexer": "ipython3",
   "version": "3.7.3"
  },
  "widgets": {
   "application/vnd.jupyter.widget-state+json": {
    "state": {},
    "version_major": 2,
    "version_minor": 0
   }
  }
 },
 "nbformat": 4,
 "nbformat_minor": 4
}

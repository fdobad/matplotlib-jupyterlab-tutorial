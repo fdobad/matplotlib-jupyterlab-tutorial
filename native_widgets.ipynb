{
 "cells": [
  {
   "cell_type": "markdown",
   "metadata": {},
   "source": [
    "# widgets TODO"
   ]
  },
  {
   "cell_type": "code",
   "execution_count": null,
   "metadata": {},
   "outputs": [],
   "source": [
    "import matplotlib\n",
    "dir(matplotlib.widgets)"
   ]
  },
  {
   "cell_type": "markdown",
   "metadata": {},
   "source": [
    "## Cursor lines"
   ]
  },
  {
   "cell_type": "code",
   "execution_count": null,
   "metadata": {},
   "outputs": [],
   "source": [
    "%matplotlib qt5\n",
    "from matplotlib.widgets import Cursor\n",
    "import numpy as np\n",
    "import matplotlib.pyplot as plt\n",
    "\n",
    "\n",
    "# Fixing random state for reproducibility\n",
    "np.random.seed(19680801)\n",
    "\n",
    "fig = plt.figure(figsize=(8, 6))\n",
    "ax = fig.add_subplot(111, facecolor='#FFFFCC')\n",
    "\n",
    "x, y = 4*(np.random.rand(2, 100) - .5)\n",
    "ax.plot(x, y, 'o')\n",
    "ax.set_xlim(-2, 2)\n",
    "ax.set_ylim(-2, 2)\n",
    "\n",
    "# Set useblit=True on most backends for enhanced performance.\n",
    "cursor = Cursor(ax, useblit=True, color='red', linewidth=2)\n",
    "\n",
    "plt.show()"
   ]
  },
  {
   "cell_type": "markdown",
   "metadata": {},
   "source": [
    "## Span selector"
   ]
  },
  {
   "cell_type": "code",
   "execution_count": null,
   "metadata": {},
   "outputs": [],
   "source": [
    "import matplotlib.pyplot as plt\n",
    "import matplotlib.widgets as mwidgets\n",
    "fig, ax = plt.subplots()\n",
    "ax.plot([1, 2, 3], [10, 50, 100])\n",
    "def onselect(vmin, vmax):\n",
    "    print(vmin, vmax)\n",
    "rectprops = dict(facecolor='blue', alpha=0.5)\n",
    "span = mwidgets.SpanSelector(ax, onselect, 'horizontal',\n",
    "                             rectprops=rectprops)\n",
    "fig.show()"
   ]
  },
  {
   "cell_type": "markdown",
   "metadata": {},
   "source": [
    "# Blit BBox"
   ]
  },
  {
   "cell_type": "raw",
   "metadata": {},
   "source": [
    "matplotlib.transforms.Bbox\n",
    "\n",
    "Bbox.null()\n",
    "update_from_path()\n",
    "\n",
    "Artist.set_clip_path(path, transform=None)"
   ]
  },
  {
   "cell_type": "markdown",
   "metadata": {},
   "source": [
    "## bad example from\n",
    "https://stackoverflow.com/questions/40126176/fast-live-plotting-in-matplotlib-pyplot#40139416"
   ]
  },
  {
   "cell_type": "code",
   "execution_count": null,
   "metadata": {},
   "outputs": [],
   "source": [
    "%matplotlib qt5\n",
    "#widget\n",
    "import time\n",
    "from matplotlib import pyplot as plt\n",
    "import numpy as np\n",
    "\n",
    "#def live_update_demo(blit = False):\n",
    "\n",
    "blit=True\n",
    "x = np.linspace(0,50., num=100)\n",
    "X,Y = np.meshgrid(x,x)\n",
    "fig = plt.figure()\n",
    "ax1 = fig.add_subplot(2, 1, 1)\n",
    "ax2 = fig.add_subplot(2, 1, 2)\n",
    "\n",
    "fig.canvas.draw()   # note that the first draw comes before setting data \n",
    "\n",
    "h1 = ax1.imshow(X, vmin=-1, vmax=1, interpolation=\"None\", cmap=\"RdBu\")\n",
    "\n",
    "h2, = ax2.plot(x, lw=3)\n",
    "text = ax2.text(0.8,1.5, \"\")\n",
    "ax2.set_ylim([-1,1])\n",
    "\n",
    "\n",
    "if blit:\n",
    "    # cache the background\n",
    "    axbackground = fig.canvas.copy_from_bbox(ax1.bbox)\n",
    "    ax2background = fig.canvas.copy_from_bbox(ax2.bbox)\n",
    "\n",
    "t_start = time.time()\n",
    "k=0.\n",
    "for i in np.arange(1000):\n",
    "    h1.set_data(np.sin(X/3.+k)*np.cos(Y/3.+k))\n",
    "    h2.set_ydata(np.sin(x/3.+k))\n",
    "    tx = 'Mean Frame Rate:\\n {fps:.3f}FPS'.format(fps= ((i+1) / (time.time() - t_start)) ) \n",
    "    text.set_text(tx)\n",
    "    #print tx\n",
    "    k+=0.11\n",
    "    if blit:\n",
    "        # restore background\n",
    "        fig.canvas.restore_region(axbackground)\n",
    "        fig.canvas.restore_region(ax2background)\n",
    "\n",
    "        # redraw just the points\n",
    "        ax1.draw_artist(h1)\n",
    "        ax2.draw_artist(h2)\n",
    "\n",
    "        # fill in the axes rectangle\n",
    "        fig.canvas.blit(ax1.bbox)\n",
    "        fig.canvas.blit(ax2.bbox)\n",
    "        # in this post http://bastibe.de/2013-05-30-speeding-up-matplotlib.html\n",
    "        # it is mentionned that blit causes strong memory leakage. \n",
    "        # however, I did not observe that.\n",
    "\n",
    "    else:\n",
    "        # redraw everything\n",
    "        fig.canvas.draw()\n",
    "        fig.canvas.flush_events()\n",
    "\n",
    "\n",
    "    plt.pause(0.000000000001) \n",
    "    #plt.pause calls canvas.draw(), as can be read here:\n",
    "    #http://bastibe.de/2013-05-30-speeding-up-matplotlib.html\n",
    "    #however with Qt4 (and TkAgg??) this is needed. It seems,using a different backend, \n",
    "    #one can avoid plt.pause() and gain even more speed.\n",
    "\n",
    "\n",
    "#live_update_demo(True) # 28 fps\n",
    "#live_update_demo(False) # 18 fps"
   ]
  },
  {
   "cell_type": "code",
   "execution_count": null,
   "metadata": {},
   "outputs": [],
   "source": [
    "%matplotlib qt5\n",
    "import time\n",
    "from matplotlib import pyplot as plt\n",
    "import numpy as np\n",
    "\n",
    "\n",
    "#def live_update_demo(blit = False):\n",
    "blit = False\n",
    "x = np.linspace(0,50., num=100)\n",
    "X,Y = np.meshgrid(x,x)\n",
    "fig = plt.figure()\n",
    "ax1 = fig.add_subplot(2, 1, 1)\n",
    "ax2 = fig.add_subplot(2, 1, 2)\n",
    "\n",
    "img = ax1.imshow(X, vmin=-1, vmax=1, interpolation=\"None\", cmap=\"RdBu\")\n",
    "\n",
    "\n",
    "line, = ax2.plot([], lw=3)\n",
    "text = ax2.text(0.8,0.5, \"\")\n",
    "\n",
    "ax2.set_xlim(x.min(), x.max())\n",
    "ax2.set_ylim([-1.1, 1.1])\n",
    "\n",
    "fig.canvas.draw()   # note that the first draw comes before setting data \n",
    "\n",
    "\n",
    "if blit:\n",
    "    # cache the background\n",
    "    axbackground = fig.canvas.copy_from_bbox(ax1.bbox)\n",
    "    ax2background = fig.canvas.copy_from_bbox(ax2.bbox)\n",
    "\n",
    "plt.show(block=False)\n",
    "\n",
    "\n",
    "t_start = time.time()\n",
    "k=0.\n",
    "\n",
    "for i in np.arange(1000):\n",
    "    img.set_data(np.sin(X/3.+k)*np.cos(Y/3.+k))\n",
    "    line.set_data(x, np.sin(x/3.+k))\n",
    "    tx = 'Mean Frame Rate:\\n {fps:.3f}FPS'.format(fps= ((i+1) / (time.time() - t_start)) ) \n",
    "    text.set_text(tx)\n",
    "    #print tx\n",
    "    k+=0.11\n",
    "    if blit:\n",
    "        # restore background\n",
    "        fig.canvas.restore_region(axbackground)\n",
    "        fig.canvas.restore_region(ax2background)\n",
    "\n",
    "        # redraw just the points\n",
    "        ax1.draw_artist(img)\n",
    "        ax2.draw_artist(line)\n",
    "        ax2.draw_artist(text)\n",
    "\n",
    "        # fill in the axes rectangle\n",
    "        fig.canvas.blit(ax1.bbox)\n",
    "        fig.canvas.blit(ax2.bbox)\n",
    "\n",
    "        # in this post http://bastibe.de/2013-05-30-speeding-up-matplotlib.html\n",
    "        # it is mentionned that blit causes strong memory leakage. \n",
    "        # however, I did not observe that.\n",
    "\n",
    "    else:\n",
    "        # redraw everything\n",
    "        fig.canvas.draw()\n",
    "\n",
    "    fig.canvas.flush_events()\n",
    "    #alternatively you could use\n",
    "    #plt.pause(0.000000000001) \n",
    "    # however plt.pause calls canvas.draw(), as can be read here:\n",
    "    #http://bastibe.de/2013-05-30-speeding-up-matplotlib.html\n",
    "\n",
    "\n",
    "#live_update_demo(True)   # 175 fps\n",
    "#live_update_demo(False) # 28 fps"
   ]
  },
  {
   "cell_type": "code",
   "execution_count": null,
   "metadata": {},
   "outputs": [],
   "source": []
  }
 ],
 "metadata": {
  "jupytext": {
   "cell_metadata_filter": "-all",
   "main_language": "python",
   "notebook_metadata_filter": "-all"
  },
  "kernelspec": {
   "display_name": "Python 3",
   "language": "python",
   "name": "python3"
  },
  "language_info": {
   "codemirror_mode": {
    "name": "ipython",
    "version": 3
   },
   "file_extension": ".py",
   "mimetype": "text/x-python",
   "name": "python",
   "nbconvert_exporter": "python",
   "pygments_lexer": "ipython3",
   "version": "3.7.3"
  },
  "widgets": {
   "application/vnd.jupyter.widget-state+json": {
    "state": {},
    "version_major": 2,
    "version_minor": 0
   }
  }
 },
 "nbformat": 4,
 "nbformat_minor": 4
}

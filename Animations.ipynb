{
 "cells": [
  {
   "cell_type": "markdown",
   "metadata": {},
   "source": [
    "# Global Architecture"
   ]
  },
  {
   "cell_type": "markdown",
   "metadata": {},
   "source": [
    "Without blitting The inner workings of FuncAnimation is more-or-less:"
   ]
  },
  {
   "cell_type": "raw",
   "metadata": {},
   "source": [
    "for d in frames:\n",
    "   artists = func(d, *fargs)\n",
    "   fig.canvas.draw_idle()\n",
    "   fig.canvas.start_event_loop(interval)"
   ]
  },
  {
   "cell_type": "markdown",
   "metadata": {},
   "source": [
    "Blitting"
   ]
  },
  {
   "cell_type": "raw",
   "metadata": {},
   "source": [
    "ax = fig.gca()\n",
    "\n",
    "def update_blit(artists):\n",
    "    fig.canvas.restore_region(bg_cache)\n",
    "    for a in artists:\n",
    "        a.axes.draw_artist(a)\n",
    "\n",
    "    ax.figure.canvas.blit(ax.bbox)\n",
    "\n",
    "artists = init_func()\n",
    "\n",
    "for a in artists:\n",
    "   a.set_animated(True)\n",
    "\n",
    "fig.canvas.draw()\n",
    "bg_cache = fig.canvas.copy_from_bbox(ax.bbox)\n",
    "\n",
    "for f in frames:\n",
    "    artists = func(f, *fargs)\n",
    "    update_blit(artists)\n",
    "    fig.canvas.start_event_loop(interval)\n",
    "    "
   ]
  },
  {
   "cell_type": "markdown",
   "metadata": {},
   "source": [
    "# Basic Animation"
   ]
  },
  {
   "cell_type": "markdown",
   "metadata": {},
   "source": [
    "# imshow MandelBrot example"
   ]
  },
  {
   "cell_type": "code",
   "execution_count": 1,
   "metadata": {},
   "outputs": [],
   "source": [
    "def mandelbrot(x, y, mI):\n",
    "    c=0\n",
    "    z=np.complex(real=x,imag=y)\n",
    "    c=z\n",
    "    for i in range(mI):\n",
    "        if z.real**2+z.imag**2 >= 4:\n",
    "            break\n",
    "        else:\n",
    "            z = z*z + c\n",
    "    return i, z"
   ]
  },
  {
   "cell_type": "code",
   "execution_count": 2,
   "metadata": {},
   "outputs": [],
   "source": [
    "from matplotlib import cm, pyplot as plt\n",
    "import numpy as np\n",
    "mI=255"
   ]
  },
  {
   "cell_type": "code",
   "execution_count": 3,
   "metadata": {},
   "outputs": [
    {
     "data": {
      "application/vnd.jupyter.widget-view+json": {
       "model_id": "3c92793f1e15442ea189b9812675f8a5",
       "version_major": 2,
       "version_minor": 0
      },
      "text/plain": [
       "Canvas(toolbar=Toolbar(toolitems=[('Home', 'Reset original view', 'home', 'home'), ('Back', 'Back to previous …"
      ]
     },
     "metadata": {},
     "output_type": "display_data"
    }
   ],
   "source": [
    "%matplotlib widget\n",
    "import numpy as np\n",
    "from matplotlib import cm, pyplot as plt\n",
    "from matplotlib.animation import FuncAnimation\n",
    "\n",
    "fig, ax = plt.subplots()\n",
    "left, right = -2.0, 0.66\n",
    "bottom, top = -1.4, 1.4\n",
    "\n",
    "def init():\n",
    "    print('hello init')\n",
    "    \n",
    "    axes_image = ax.imshow([[1,2],[3,4]], cmap=cm.turbo, interpolation='none', aspect='auto', origin='lower')\n",
    "\n",
    "    print('bye init')\n",
    "    return ax,\n",
    "\n",
    "def update(frame):\n",
    "    print('hello frame %s'%frame)\n",
    "    n=frame\n",
    "    Rx, Ry = n, n\n",
    "    itNum = np.zeros((Rx,Ry))\n",
    "    Z     = np.zeros((Rx,Ry),dtype=np.complex_)\n",
    "    \n",
    "    global right\n",
    "    right=int(right-frame/85)\n",
    "              \n",
    "    hshift = 0.5 * np.abs(right - left)/(2*Rx)\n",
    "    ex_left, ex_right = left + hshift, right - hshift\n",
    "    vshift = 0.5 * np.abs(top - bottom)/(2*Ry)\n",
    "    ex_bottom, ex_top = bottom + vshift, top - vshift\n",
    "    print(hshift,vshift,left,right,bottom,top,sep=', ',end=';')\n",
    "    \n",
    "    x = np.linspace(left, right, Rx) # 3\n",
    "    y = np.linspace(bottom, top, Ry)\n",
    "    for i,vx in enumerate(x):\n",
    "        for j,vy in enumerate(y):\n",
    "            itNum[i][j], Z[i][j] = mandelbrot( vx, vy, 2*frame)\n",
    "    #ax.cla()\n",
    "    axes_image = ax.imshow( itNum.transpose(), cmap=cm.turbo, interpolation='none', aspect='auto', origin='lower',\n",
    "                       extent=[ex_left, ex_right, ex_top, ex_bottom] )\n",
    "    print('bye frame %s'%frame)\n",
    "    return ax,\n",
    "\n",
    "ani = FuncAnimation(fig, update, interval=2000, frames=range(10,100,10),\n",
    "                    init_func=init, blit=True)\n",
    "plt.show()"
   ]
  },
  {
   "cell_type": "code",
   "execution_count": 4,
   "metadata": {},
   "outputs": [
    {
     "name": "stdout",
     "output_type": "stream",
     "text": [
      "hello frame 20\n",
      "0.0, 0.034999999999999996, -2.0, -2, -1.4, 1.4;bye frame 20\n"
     ]
    },
    {
     "name": "stderr",
     "output_type": "stream",
     "text": [
      "/home/fdo/Source/py3env/lib/python3.7/site-packages/ipykernel_launcher.py:41: UserWarning: Attempting to set identical left == right == -2.0 results in singular transformations; automatically expanding.\n"
     ]
    },
    {
     "name": "stdout",
     "output_type": "stream",
     "text": [
      "hello frame 30\n",
      "0.0, 0.02333333333333333, -2.0, -2, -1.4, 1.4;bye frame 30\n",
      "hello frame 40\n",
      "0.0, 0.017499999999999998, -2.0, -2, -1.4, 1.4;bye frame 40\n",
      "hello frame 50\n",
      "0.0, 0.013999999999999999, -2.0, -2, -1.4, 1.4;bye frame 50\n",
      "hello frame 60\n",
      "0.0, 0.011666666666666665, -2.0, -2, -1.4, 1.4;bye frame 60\n",
      "hello frame 70\n",
      "0.0, 0.01, -2.0, -2, -1.4, 1.4;bye frame 70\n",
      "hello frame 80\n",
      "0.0, 0.008749999999999999, -2.0, -2, -1.4, 1.4;bye frame 80\n",
      "hello frame 90\n",
      "0.002777777777777778, 0.0077777777777777776, -2.0, -3, -1.4, 1.4;bye frame 90\n",
      "hello frame 10\n",
      "0.025, 0.06999999999999999, -2.0, -3, -1.4, 1.4;bye frame 10\n",
      "hello frame 20\n",
      "0.0125, 0.034999999999999996, -2.0, -3, -1.4, 1.4;bye frame 20\n",
      "hello frame 30\n",
      "0.008333333333333333, 0.02333333333333333, -2.0, -3, -1.4, 1.4;bye frame 30\n",
      "hello frame 40\n",
      "0.00625, 0.017499999999999998, -2.0, -3, -1.4, 1.4;bye frame 40\n",
      "hello frame 50\n",
      "0.005, 0.013999999999999999, -2.0, -3, -1.4, 1.4;bye frame 50\n",
      "hello frame 60\n",
      "0.004166666666666667, 0.011666666666666665, -2.0, -3, -1.4, 1.4;bye frame 60\n",
      "hello frame 70\n",
      "0.0035714285714285713, 0.01, -2.0, -3, -1.4, 1.4;bye frame 70\n",
      "hello frame 80\n",
      "0.003125, 0.008749999999999999, -2.0, -3, -1.4, 1.4;bye frame 80\n",
      "hello frame 90\n",
      "0.005555555555555556, 0.0077777777777777776, -2.0, -4, -1.4, 1.4;bye frame 90\n",
      "hello frame 10\n",
      "0.05, 0.06999999999999999, -2.0, -4, -1.4, 1.4;bye frame 10\n"
     ]
    }
   ],
   "source": [
    "plt.close()"
   ]
  },
  {
   "cell_type": "markdown",
   "metadata": {},
   "source": [
    "# FuncAnimation simple example"
   ]
  },
  {
   "cell_type": "code",
   "execution_count": null,
   "metadata": {},
   "outputs": [],
   "source": [
    "%matplotlib widget\n",
    "import numpy as np\n",
    "import matplotlib.pyplot as plt\n",
    "from matplotlib.animation import FuncAnimation\n",
    "\n",
    "fig, ax = plt.subplots()\n",
    "xdata, ydata = [], []\n",
    "ln, = plt.plot([], [], 'ro')\n",
    "\n",
    "def init():\n",
    "    ax.set_xlim(0, 2*np.pi)\n",
    "    ax.set_ylim(-1, 1)\n",
    "    return ln,\n",
    "\n",
    "def update(frame):\n",
    "    xdata.append(frame)\n",
    "    ydata.append(np.sin(frame))\n",
    "    ln.set_data(xdata, ydata)\n",
    "    return ln,\n",
    "\n",
    "ani = FuncAnimation(fig, update, frames=np.linspace(0, 2*np.pi, 128),\n",
    "                    init_func=init, blit=True)\n",
    "plt.show()"
   ]
  },
  {
   "cell_type": "code",
   "execution_count": null,
   "metadata": {},
   "outputs": [],
   "source": [
    "plt.close()"
   ]
  },
  {
   "cell_type": "markdown",
   "metadata": {},
   "source": [
    "# Joy division"
   ]
  },
  {
   "cell_type": "code",
   "execution_count": null,
   "metadata": {},
   "outputs": [],
   "source": [
    "%matplotlib widget\n",
    "import numpy as np\n",
    "import matplotlib.pyplot as plt\n",
    "import matplotlib.animation as animation\n",
    "\n",
    "# Fixing random state for reproducibility\n",
    "np.random.seed(19680801)\n",
    "\n",
    "\n",
    "# Create new Figure with black background\n",
    "fig = plt.figure(figsize=(8, 8), facecolor='black')\n",
    "fig.canvas.footer_visible = False\n",
    "fig.canvas.header_visible = False\n",
    "fig.canvas.toolbar_visible = False\n",
    "\n",
    "# Add a subplot with no frame\n",
    "ax = plt.subplot(111, frameon=False)\n",
    "\n",
    "# Generate random data\n",
    "data = np.random.uniform(0, 1, (64, 75))\n",
    "X = np.linspace(-1, 1, data.shape[-1])\n",
    "G = 1.5 * np.exp(-4 * X ** 2)\n",
    "\n",
    "# Generate line plots\n",
    "lines = []\n",
    "for i in range(len(data)):\n",
    "    # Small reduction of the X extents to get a cheap perspective effect\n",
    "    xscale = 1 - i / 200.\n",
    "    # Same for linewidth (thicker strokes on bottom)\n",
    "    lw = 1.5 - i / 100.0\n",
    "    line, = ax.plot(xscale * X, i + G * data[i], color=\"w\", lw=lw)\n",
    "    lines.append(line)\n",
    "\n",
    "# Set y limit (or first line is cropped because of thickness)\n",
    "ax.set_ylim(-1, 70)\n",
    "\n",
    "# No ticks\n",
    "ax.set_xticks([])\n",
    "ax.set_yticks([])\n",
    "\n",
    "# 2 part titles to get different font weights\n",
    "ax.text(0.5, 1.0, \"MATPLOTLIB \", transform=ax.transAxes,\n",
    "        ha=\"right\", va=\"bottom\", color=\"w\",\n",
    "        family=\"sans-serif\", fontweight=\"light\", fontsize=16)\n",
    "ax.text(0.5, 1.0, \"UNCHAINED\", transform=ax.transAxes,\n",
    "        ha=\"left\", va=\"bottom\", color=\"w\",\n",
    "        family=\"sans-serif\", fontweight=\"bold\", fontsize=16)\n",
    "\n",
    "\n",
    "def update(*args):\n",
    "    # Shift all data to the right\n",
    "    data[:, 1:] = data[:, :-1]\n",
    "\n",
    "    # Fill-in new values\n",
    "    data[:, 0] = np.random.uniform(0, 1, len(data))\n",
    "\n",
    "    # Update data\n",
    "    for i in range(len(data)):\n",
    "        lines[i].set_ydata(i + G * data[i])\n",
    "\n",
    "    # Return modified artists\n",
    "    return lines\n",
    "\n",
    "# Construct the animation, using the update function as the animation director.\n",
    "anim = animation.FuncAnimation(fig, update, interval=10)\n",
    "plt.show()"
   ]
  },
  {
   "cell_type": "code",
   "execution_count": null,
   "metadata": {},
   "outputs": [],
   "source": [
    "plt.close()"
   ]
  },
  {
   "cell_type": "markdown",
   "metadata": {},
   "source": [
    "# Blit BBox"
   ]
  },
  {
   "cell_type": "raw",
   "metadata": {},
   "source": [
    "matplotlib.transforms.Bbox\n",
    "\n",
    "Bbox.null()\n",
    "update_from_path()\n",
    "\n",
    "Artist.set_clip_path(path, transform=None)"
   ]
  },
  {
   "cell_type": "markdown",
   "metadata": {},
   "source": [
    "## bad example from\n",
    "https://stackoverflow.com/questions/40126176/fast-live-plotting-in-matplotlib-pyplot#40139416"
   ]
  },
  {
   "cell_type": "code",
   "execution_count": null,
   "metadata": {},
   "outputs": [],
   "source": [
    "%matplotlib qt5\n",
    "#widget\n",
    "import time\n",
    "from matplotlib import pyplot as plt\n",
    "import numpy as np\n",
    "\n",
    "#def live_update_demo(blit = False):\n",
    "\n",
    "blit=True\n",
    "x = np.linspace(0,50., num=100)\n",
    "X,Y = np.meshgrid(x,x)\n",
    "fig = plt.figure()\n",
    "ax1 = fig.add_subplot(2, 1, 1)\n",
    "ax2 = fig.add_subplot(2, 1, 2)\n",
    "\n",
    "fig.canvas.draw()   # note that the first draw comes before setting data \n",
    "\n",
    "h1 = ax1.imshow(X, vmin=-1, vmax=1, interpolation=\"None\", cmap=\"RdBu\")\n",
    "\n",
    "h2, = ax2.plot(x, lw=3)\n",
    "text = ax2.text(0.8,1.5, \"\")\n",
    "ax2.set_ylim([-1,1])\n",
    "\n",
    "\n",
    "if blit:\n",
    "    # cache the background\n",
    "    axbackground = fig.canvas.copy_from_bbox(ax1.bbox)\n",
    "    ax2background = fig.canvas.copy_from_bbox(ax2.bbox)\n",
    "\n",
    "t_start = time.time()\n",
    "k=0.\n",
    "for i in np.arange(1000):\n",
    "    h1.set_data(np.sin(X/3.+k)*np.cos(Y/3.+k))\n",
    "    h2.set_ydata(np.sin(x/3.+k))\n",
    "    tx = 'Mean Frame Rate:\\n {fps:.3f}FPS'.format(fps= ((i+1) / (time.time() - t_start)) ) \n",
    "    text.set_text(tx)\n",
    "    #print tx\n",
    "    k+=0.11\n",
    "    if blit:\n",
    "        # restore background\n",
    "        fig.canvas.restore_region(axbackground)\n",
    "        fig.canvas.restore_region(ax2background)\n",
    "\n",
    "        # redraw just the points\n",
    "        ax1.draw_artist(h1)\n",
    "        ax2.draw_artist(h2)\n",
    "\n",
    "        # fill in the axes rectangle\n",
    "        fig.canvas.blit(ax1.bbox)\n",
    "        fig.canvas.blit(ax2.bbox)\n",
    "        # in this post http://bastibe.de/2013-05-30-speeding-up-matplotlib.html\n",
    "        # it is mentionned that blit causes strong memory leakage. \n",
    "        # however, I did not observe that.\n",
    "\n",
    "    else:\n",
    "        # redraw everything\n",
    "        fig.canvas.draw()\n",
    "        fig.canvas.flush_events()\n",
    "\n",
    "\n",
    "    plt.pause(0.000000000001) \n",
    "    #plt.pause calls canvas.draw(), as can be read here:\n",
    "    #http://bastibe.de/2013-05-30-speeding-up-matplotlib.html\n",
    "    #however with Qt4 (and TkAgg??) this is needed. It seems,using a different backend, \n",
    "    #one can avoid plt.pause() and gain even more speed.\n",
    "\n",
    "\n",
    "#live_update_demo(True) # 28 fps\n",
    "#live_update_demo(False) # 18 fps"
   ]
  },
  {
   "cell_type": "code",
   "execution_count": null,
   "metadata": {},
   "outputs": [],
   "source": [
    "%matplotlib qt5\n",
    "import time\n",
    "from matplotlib import pyplot as plt\n",
    "import numpy as np\n",
    "\n",
    "\n",
    "#def live_update_demo(blit = False):\n",
    "blit = False\n",
    "x = np.linspace(0,50., num=100)\n",
    "X,Y = np.meshgrid(x,x)\n",
    "fig = plt.figure()\n",
    "ax1 = fig.add_subplot(2, 1, 1)\n",
    "ax2 = fig.add_subplot(2, 1, 2)\n",
    "\n",
    "img = ax1.imshow(X, vmin=-1, vmax=1, interpolation=\"None\", cmap=\"RdBu\")\n",
    "\n",
    "\n",
    "line, = ax2.plot([], lw=3)\n",
    "text = ax2.text(0.8,0.5, \"\")\n",
    "\n",
    "ax2.set_xlim(x.min(), x.max())\n",
    "ax2.set_ylim([-1.1, 1.1])\n",
    "\n",
    "fig.canvas.draw()   # note that the first draw comes before setting data \n",
    "\n",
    "\n",
    "if blit:\n",
    "    # cache the background\n",
    "    axbackground = fig.canvas.copy_from_bbox(ax1.bbox)\n",
    "    ax2background = fig.canvas.copy_from_bbox(ax2.bbox)\n",
    "\n",
    "plt.show(block=False)\n",
    "\n",
    "\n",
    "t_start = time.time()\n",
    "k=0.\n",
    "\n",
    "for i in np.arange(1000):\n",
    "    img.set_data(np.sin(X/3.+k)*np.cos(Y/3.+k))\n",
    "    line.set_data(x, np.sin(x/3.+k))\n",
    "    tx = 'Mean Frame Rate:\\n {fps:.3f}FPS'.format(fps= ((i+1) / (time.time() - t_start)) ) \n",
    "    text.set_text(tx)\n",
    "    #print tx\n",
    "    k+=0.11\n",
    "    if blit:\n",
    "        # restore background\n",
    "        fig.canvas.restore_region(axbackground)\n",
    "        fig.canvas.restore_region(ax2background)\n",
    "\n",
    "        # redraw just the points\n",
    "        ax1.draw_artist(img)\n",
    "        ax2.draw_artist(line)\n",
    "        ax2.draw_artist(text)\n",
    "\n",
    "        # fill in the axes rectangle\n",
    "        fig.canvas.blit(ax1.bbox)\n",
    "        fig.canvas.blit(ax2.bbox)\n",
    "\n",
    "        # in this post http://bastibe.de/2013-05-30-speeding-up-matplotlib.html\n",
    "        # it is mentionned that blit causes strong memory leakage. \n",
    "        # however, I did not observe that.\n",
    "\n",
    "    else:\n",
    "        # redraw everything\n",
    "        fig.canvas.draw()\n",
    "\n",
    "    fig.canvas.flush_events()\n",
    "    #alternatively you could use\n",
    "    #plt.pause(0.000000000001) \n",
    "    # however plt.pause calls canvas.draw(), as can be read here:\n",
    "    #http://bastibe.de/2013-05-30-speeding-up-matplotlib.html\n",
    "\n",
    "\n",
    "#live_update_demo(True)   # 175 fps\n",
    "#live_update_demo(False) # 28 fps"
   ]
  },
  {
   "cell_type": "code",
   "execution_count": null,
   "metadata": {},
   "outputs": [],
   "source": []
  }
 ],
 "metadata": {
  "kernelspec": {
   "display_name": "Python 3",
   "language": "python",
   "name": "python3"
  },
  "language_info": {
   "codemirror_mode": {
    "name": "ipython",
    "version": 3
   },
   "file_extension": ".py",
   "mimetype": "text/x-python",
   "name": "python",
   "nbconvert_exporter": "python",
   "pygments_lexer": "ipython3",
   "version": "3.7.3"
  },
  "widgets": {
   "application/vnd.jupyter.widget-state+json": {
    "state": {
     "46b2bc882755486fbaf1f542188ad9bc": {
      "model_module": "jupyter-matplotlib",
      "model_module_version": "^0.7.3",
      "model_name": "ToolbarModel",
      "state": {
       "layout": "IPY_MODEL_479bf9a8eb644f409f6b71dd67a2f50b",
       "toolitems": [
        [
         "Home",
         "Reset original view",
         "home",
         "home"
        ],
        [
         "Back",
         "Back to previous view",
         "arrow-left",
         "back"
        ],
        [
         "Forward",
         "Forward to next view",
         "arrow-right",
         "forward"
        ],
        [
         "Pan",
         "Left button pans, Right button zooms\nx/y fixes axis, CTRL fixes aspect",
         "arrows",
         "pan"
        ],
        [
         "Zoom",
         "Zoom to rectangle\nx/y fixes axis, CTRL fixes aspect",
         "square-o",
         "zoom"
        ],
        [
         "Download",
         "Download plot",
         "floppy-o",
         "save_figure"
        ]
       ]
      }
     },
     "479bf9a8eb644f409f6b71dd67a2f50b": {
      "model_module": "@jupyter-widgets/base",
      "model_module_version": "1.2.0",
      "model_name": "LayoutModel",
      "state": {}
     },
     "7efaea1e35854f2397c394b4896a7d43": {
      "model_module": "@jupyter-widgets/base",
      "model_module_version": "1.2.0",
      "model_name": "LayoutModel",
      "state": {}
     }
    },
    "version_major": 2,
    "version_minor": 0
   }
  }
 },
 "nbformat": 4,
 "nbformat_minor": 4
}

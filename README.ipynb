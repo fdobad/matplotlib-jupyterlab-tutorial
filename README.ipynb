{
 "cells": [
  {
   "cell_type": "code",
   "execution_count": null,
   "metadata": {},
   "outputs": [],
   "source": [
    "# this is for using jupytext, just ignore it\n",
    "%autosave 0 "
   ]
  },
  {
   "cell_type": "markdown",
   "metadata": {},
   "source": [
    "Matplotlib tutorial topics:  \n",
    "\n",
    "    - Pyplot [Exploring_pyplot](Exploring_pyplot.ipynb)  \n",
    "    - Manipulate plot  \n",
    "    \n",
    "        - widgets  \n",
    "        - mpl_interactions  \n",
    "        \n",
    "    - Backends [Tk, Widgets, qt5]  \n",
    "    - Events  \n",
    "    - Animations  \n",
    "    - Transformations  \n",
    "    - Paths, contours, collections  \n",
    "    - Mandelbrot example"
   ]
  },
  {
   "cell_type": "markdown",
   "metadata": {},
   "source": [
    "# Pyplot : The basics\n",
    "Mainly for interactive plotting so choose an interactive backend like widget, qt5 or tk\n",
    "Typical steps:\n",
    "1. Choose backend\n",
    "2. Create a figure and the plot area (or axes)\n",
    "3. Each Axes can have several axis or plotted objects\n",
    "\n",
    "Keep learning pyplot options here [Exploring_pyplot](Exploring_pyplot.ipynb):"
   ]
  },
  {
   "cell_type": "code",
   "execution_count": null,
   "metadata": {},
   "outputs": [],
   "source": [
    "%matplotlib tk\n",
    "import matplotlib.pyplot as plt"
   ]
  },
  {
   "cell_type": "code",
   "execution_count": null,
   "metadata": {},
   "outputs": [],
   "source": [
    "fig, (ax1,ax2,ax3) = plt.subplots(nrows=1, ncols=3)\n",
    "ax1.plot([1,2],[3,5], 'g--.')\n",
    "ax1.plot([2,3],[3,5], 'y-')"
   ]
  },
  {
   "cell_type": "code",
   "execution_count": null,
   "metadata": {},
   "outputs": [],
   "source": [
    "ax2.scatter([1,2],[3,5])\n",
    "ax2.set_xlim(0,4)\n",
    "ax2.set_ylim(2,6)"
   ]
  },
  {
   "cell_type": "code",
   "execution_count": null,
   "metadata": {},
   "outputs": [],
   "source": [
    "import numpy as np\n",
    "rg = np.random.default_rng([69,420]) # execute next to the random generator to get the same results\n",
    "nrows, ncols, rgba = 5, 4, 4         # (M, N, 4): an image with RGBA\n",
    "rgba_image = rg.integers(1,256,size=(nrows, ncols, rgba))\n",
    "ax3.imshow(rgb_image)"
   ]
  },
  {
   "cell_type": "code",
   "execution_count": null,
   "metadata": {},
   "outputs": [],
   "source": [
    "fig.canvas.toolbar_visible = False\n",
    "fig.canvas.header_visible = False\n",
    "fig.canvas.footer_visible = False\n",
    "fig.canvas.resizable = False\n",
    "fig.canvas.capture_scroll = True"
   ]
  },
  {
   "cell_type": "code",
   "execution_count": null,
   "metadata": {},
   "outputs": [],
   "source": [
    "# Force close\n",
    "ax2.cla() # clear this axis\n",
    "fig.cla() # clear all axes \n",
    "fig.clf() # clear figure\n",
    "plt.close() # close all"
   ]
  },
  {
   "cell_type": "markdown",
   "metadata": {},
   "source": [
    "# Manipulate plot"
   ]
  },
  {
   "cell_type": "markdown",
   "metadata": {},
   "source": [
    "## ipywidgets"
   ]
  },
  {
   "cell_type": "code",
   "execution_count": 1,
   "metadata": {},
   "outputs": [],
   "source": [
    "# When using the `widget` backend from ipympl,\n",
    "# fig.canvas is a proper Jupyter interactive widget, which can be embedded in\n",
    "# an ipywidgets layout. See https://ipywidgets.readthedocs.io/en/stable/examples/Layout%20Templates.html\n",
    "\n",
    "# One can bound figure attributes to other widget values.\n",
    "%matplotlib widget\n",
    "import matplotlib.pyplot as plt\n",
    "import numpy as np\n",
    "from ipywidgets import AppLayout, FloatSlider"
   ]
  },
  {
   "cell_type": "code",
   "execution_count": 3,
   "metadata": {},
   "outputs": [
    {
     "data": {
      "application/vnd.jupyter.widget-view+json": {
       "model_id": "9f75b4a721ef43eba7c283d92efbf46e",
       "version_major": 2,
       "version_minor": 0
      },
      "text/plain": [
       "AppLayout(children=(FloatSlider(value=1.0, description='Factor:', layout=Layout(grid_area='footer', margin='0p…"
      ]
     },
     "metadata": {},
     "output_type": "display_data"
    }
   ],
   "source": [
    "#plt.close()\n",
    "plt.ioff() # ipykernel plots it by default, avoid it because we're embedding\n",
    "slider = FloatSlider(\n",
    "    orientation='horizontal',\n",
    "    description='Factor:',\n",
    "    value=1.0,\n",
    "    min=0.02,\n",
    "    max=2.0\n",
    ")\n",
    "\n",
    "slider.layout.margin = '0px 30% 0px 30%'\n",
    "slider.layout.width = '40%'\n",
    "\n",
    "fig = plt.figure()\n",
    "fig.canvas.header_visible = False\n",
    "fig.canvas.layout.min_height = '400px'\n",
    "plt.title('Plotting: y=sin({} * x)'.format(slider.value))\n",
    "\n",
    "x = np.linspace(0, 20, 500)\n",
    "\n",
    "lines = plt.plot(x, np.sin(slider.value * x))\n",
    "\n",
    "def update_lines(change):\n",
    "    plt.title('Plotting: y=sin({} * x)'.format(change.new))\n",
    "    lines[0].set_data(x, np.sin(change.new * x))\n",
    "    fig.canvas.draw()\n",
    "    fig.canvas.flush_events()\n",
    "\n",
    "slider.observe(update_lines, names='value')\n",
    "\n",
    "AppLayout(\n",
    "    center=fig.canvas,\n",
    "    footer=slider,\n",
    "    pane_heights=[0, 6, 1]\n",
    ")"
   ]
  },
  {
   "cell_type": "markdown",
   "metadata": {},
   "source": [
    "# Manipulate plot\n",
    "Like the Mathematica interface, but simpler!  \n",
    "\n",
    "Canned interaction with mpl_interactions, great for 2D ploting and heatmap, exploring.  \n",
    "\n",
    "See [mpl_interactions.ipynb](mpl_interactions.ipynb)\n",
    "\n",
    "For the widgets backend, from https://github.com/ianhi/mpl-interactions/"
   ]
  },
  {
   "cell_type": "markdown",
   "metadata": {},
   "source": [
    "# Backends\n",
    "The first interactive command should be the backend choosing, because not all of them are interchangeable without restarting the kernel.  \n",
    "List them:  "
   ]
  },
  {
   "cell_type": "code",
   "execution_count": null,
   "metadata": {},
   "outputs": [],
   "source": [
    "%matplotlib -l"
   ]
  },
  {
   "cell_type": "markdown",
   "metadata": {},
   "source": [
    "There are native widgets on matplotlib.widgets; so backend mainly connect to them and their events.  \n",
    "\n",
    "| backend | features |\n",
    "| --- | --- |\n",
    "| __widget__ | Interaction wrappers for jupyter-widgets, sliders, textboxes, layouts... |\n",
    "|   | Built on top of ipympl & nbagg |\n",
    "| __tk__ | Python default, faster |\n",
    "| __qt5__ | Multiplatform ? |\n",
    "| __osx__ | pending ... |\n",
    "\n",
    "## Hacking a toolbar"
   ]
  },
  {
   "cell_type": "code",
   "execution_count": null,
   "metadata": {},
   "outputs": [],
   "source": [
    "%matplotlib widget\n",
    "import matplotlib.pyplot as plt\n",
    "from matplotlib.backend_bases import Event\n",
    "from ipympl.backend_nbagg import Toolbar\n",
    "\n",
    "home = Toolbar.home\n",
    "\n",
    "def new_home(self, *args, **kwargs):\n",
    "    s = 'home_event'\n",
    "    event = Event(s, self)\n",
    "    event.foo = 420\n",
    "    self.canvas.callbacks.process(s, event)\n",
    "    home(self, *args, **kwargs)\n",
    "\n",
    "Toolbar.home = new_home\n",
    "\n",
    "fig, ax = plt.subplots(1, 1)\n",
    "t=ax.text(x=0.6,y=0.9,s='place holder')\n",
    "\n",
    "def handle_home(change):\n",
    "    ''' home to default '''\n",
    "    print('hello foo ', change.foo, end=', ')\n",
    "    t.set_text('hello foo %s'%change.foo)\n",
    "    fig.canvas.flush_events()\n",
    "\n",
    "#connectionId = fig.canvas.mpl_connect('home_event',handle_home)\n",
    "fig.canvas.mpl_connect('home_event',handle_home)"
   ]
  },
  {
   "cell_type": "code",
   "execution_count": null,
   "metadata": {},
   "outputs": [],
   "source": [
    "# keep the connection id on class o non-interactive\n",
    "fig.canvas.mpl_disconnect(connectionId)"
   ]
  },
  {
   "cell_type": "code",
   "execution_count": null,
   "metadata": {},
   "outputs": [],
   "source": [
    "# Force redraw depending on the backend are needed\n",
    "fig.canvas.flush_events()\n",
    "fig.canvas.draw()\n",
    "plt.show()"
   ]
  },
  {
   "cell_type": "markdown",
   "metadata": {},
   "source": [
    "# Events"
   ]
  },
  {
   "cell_type": "markdown",
   "metadata": {},
   "source": [
    "# References  \n",
    "https://matplotlib.org/3.1.1/api/index.html  \n",
    "https://github.com/matplotlib/jupyter-matplotlib  \n",
    "\n",
    "## Thanks to  \n",
    "https://github.com/ianhi/mpl-interactions/  \n",
    "\n",
    "https://github.com/rougier/matplotlib-tutorial"
   ]
  },
  {
   "cell_type": "code",
   "execution_count": null,
   "metadata": {},
   "outputs": [],
   "source": []
  }
 ],
 "metadata": {
  "jupytext": {
   "formats": "ipynb,md"
  },
  "kernelspec": {
   "display_name": "Python 3",
   "language": "python",
   "name": "python3"
  },
  "language_info": {
   "codemirror_mode": {
    "name": "ipython",
    "version": 3
   },
   "file_extension": ".py",
   "mimetype": "text/x-python",
   "name": "python",
   "nbconvert_exporter": "python",
   "pygments_lexer": "ipython3",
   "version": "3.7.3"
  },
  "widgets": {
   "application/vnd.jupyter.widget-state+json": {
    "state": {
     "02c307b79cbe4e9787c2fe1a6995f504": {
      "model_module": "@jupyter-widgets/base",
      "model_module_version": "1.2.0",
      "model_name": "LayoutModel",
      "state": {
       "grid_area": "center",
       "min_height": "400px"
      }
     },
     "25fab521bdeb43ba9e5ced625e431a2f": {
      "model_module": "@jupyter-widgets/base",
      "model_module_version": "1.2.0",
      "model_name": "LayoutModel",
      "state": {
       "grid_area": "footer",
       "margin": "0px 30% 0px 30%",
       "width": "40%"
      }
     },
     "3951ab3ec2c440eca63b2ee98c0821b9": {
      "model_module": "@jupyter-widgets/base",
      "model_module_version": "1.2.0",
      "model_name": "LayoutModel",
      "state": {
       "grid_template_areas": "\"center center center\"\n\"footer footer footer\"",
       "grid_template_columns": "1fr 2fr 1fr",
       "grid_template_rows": "6fr 1fr"
      }
     },
     "4e418768e93a466b970145a3179b0170": {
      "model_module": "@jupyter-widgets/base",
      "model_module_version": "1.2.0",
      "model_name": "LayoutModel",
      "state": {}
     },
     "652a7e778c544ebf968c6209159254dd": {
      "model_module": "@jupyter-widgets/base",
      "model_module_version": "1.2.0",
      "model_name": "LayoutModel",
      "state": {
       "grid_template_areas": "\"center center center\"\n\"footer footer footer\"",
       "grid_template_columns": "1fr 2fr 1fr",
       "grid_template_rows": "6fr 1fr"
      }
     },
     "66d5f73ff2ac4961b4a17c11386d0820": {
      "model_module": "@jupyter-widgets/controls",
      "model_module_version": "1.5.0",
      "model_name": "GridBoxModel",
      "state": {
       "children": [
        "IPY_MODEL_d46c9285a48f4bf3a18fa3ea7d0479c0",
        "IPY_MODEL_75efa4f72ce8400fb31636e813627f43"
       ],
       "layout": "IPY_MODEL_652a7e778c544ebf968c6209159254dd"
      }
     },
     "75b67256d85a4540bc5abed2c376f11f": {
      "model_module": "jupyter-matplotlib",
      "model_module_version": "^0.7.3",
      "model_name": "ToolbarModel",
      "state": {
       "layout": "IPY_MODEL_4e418768e93a466b970145a3179b0170",
       "toolitems": [
        [
         "Home",
         "Reset original view",
         "home",
         "home"
        ],
        [
         "Back",
         "Back to previous view",
         "arrow-left",
         "back"
        ],
        [
         "Forward",
         "Forward to next view",
         "arrow-right",
         "forward"
        ],
        [
         "Pan",
         "Left button pans, Right button zooms\nx/y fixes axis, CTRL fixes aspect",
         "arrows",
         "pan"
        ],
        [
         "Zoom",
         "Zoom to rectangle\nx/y fixes axis, CTRL fixes aspect",
         "square-o",
         "zoom"
        ],
        [
         "Download",
         "Download plot",
         "floppy-o",
         "save_figure"
        ]
       ]
      }
     },
     "75efa4f72ce8400fb31636e813627f43": {
      "model_module": "jupyter-matplotlib",
      "model_module_version": "^0.7.3",
      "model_name": "MPLCanvasModel",
      "state": {
       "_cursor": "default",
       "_figure_label": "Figure 1",
       "_height": 480,
       "_width": 640,
       "header_visible": false,
       "layout": "IPY_MODEL_02c307b79cbe4e9787c2fe1a6995f504",
       "toolbar": "IPY_MODEL_75b67256d85a4540bc5abed2c376f11f",
       "toolbar_position": "left"
      }
     },
     "79a5fcd716204935b1169bba5d38733a": {
      "model_module": "@jupyter-widgets/controls",
      "model_module_version": "1.5.0",
      "model_name": "SliderStyleModel",
      "state": {
       "description_width": ""
      }
     },
     "91868923cbfb44568aeed63f64bf187b": {
      "model_module": "@jupyter-widgets/controls",
      "model_module_version": "1.5.0",
      "model_name": "SliderStyleModel",
      "state": {
       "description_width": ""
      }
     },
     "9f75b4a721ef43eba7c283d92efbf46e": {
      "model_module": "@jupyter-widgets/controls",
      "model_module_version": "1.5.0",
      "model_name": "GridBoxModel",
      "state": {
       "children": [
        "IPY_MODEL_d2d6c59700584925a0d2bab51eb96d0d",
        "IPY_MODEL_f86d95c9c7764d38bacf0bba4d900a20"
       ],
       "layout": "IPY_MODEL_3951ab3ec2c440eca63b2ee98c0821b9"
      }
     },
     "afad0091eaae4fccb0eebf46aeaf16e3": {
      "model_module": "jupyter-matplotlib",
      "model_module_version": "^0.7.3",
      "model_name": "ToolbarModel",
      "state": {
       "layout": "IPY_MODEL_c935b60e8ea84c64b1ddda944b4ae498",
       "toolitems": [
        [
         "Home",
         "Reset original view",
         "home",
         "home"
        ],
        [
         "Back",
         "Back to previous view",
         "arrow-left",
         "back"
        ],
        [
         "Forward",
         "Forward to next view",
         "arrow-right",
         "forward"
        ],
        [
         "Pan",
         "Left button pans, Right button zooms\nx/y fixes axis, CTRL fixes aspect",
         "arrows",
         "pan"
        ],
        [
         "Zoom",
         "Zoom to rectangle\nx/y fixes axis, CTRL fixes aspect",
         "square-o",
         "zoom"
        ],
        [
         "Download",
         "Download plot",
         "floppy-o",
         "save_figure"
        ]
       ]
      }
     },
     "c935b60e8ea84c64b1ddda944b4ae498": {
      "model_module": "@jupyter-widgets/base",
      "model_module_version": "1.2.0",
      "model_name": "LayoutModel",
      "state": {}
     },
     "d2d6c59700584925a0d2bab51eb96d0d": {
      "model_module": "@jupyter-widgets/controls",
      "model_module_version": "1.5.0",
      "model_name": "FloatSliderModel",
      "state": {
       "description": "Factor:",
       "layout": "IPY_MODEL_d2dfb8dea84d4653a132e199f1edddef",
       "max": 2,
       "min": 0.02,
       "step": 0.1,
       "style": "IPY_MODEL_79a5fcd716204935b1169bba5d38733a",
       "value": 0.82
      }
     },
     "d2dfb8dea84d4653a132e199f1edddef": {
      "model_module": "@jupyter-widgets/base",
      "model_module_version": "1.2.0",
      "model_name": "LayoutModel",
      "state": {
       "grid_area": "footer",
       "margin": "0px 30% 0px 30%",
       "width": "40%"
      }
     },
     "d46c9285a48f4bf3a18fa3ea7d0479c0": {
      "model_module": "@jupyter-widgets/controls",
      "model_module_version": "1.5.0",
      "model_name": "FloatSliderModel",
      "state": {
       "description": "Factor:",
       "layout": "IPY_MODEL_25fab521bdeb43ba9e5ced625e431a2f",
       "max": 2,
       "min": 0.02,
       "step": 0.1,
       "style": "IPY_MODEL_91868923cbfb44568aeed63f64bf187b",
       "value": 1
      }
     },
     "f86d95c9c7764d38bacf0bba4d900a20": {
      "model_module": "jupyter-matplotlib",
      "model_module_version": "^0.7.3",
      "model_name": "MPLCanvasModel",
      "state": {
       "_cursor": "default",
       "_figure_label": "Figure 2",
       "_height": 480,
       "_image_mode": "diff",
       "_message": "x=9.20 y=−0.573",
       "_width": 640,
       "header_visible": false,
       "layout": "IPY_MODEL_fa9d32805e894506b66c77ab5d32a24a",
       "toolbar": "IPY_MODEL_afad0091eaae4fccb0eebf46aeaf16e3",
       "toolbar_position": "left"
      }
     },
     "fa9d32805e894506b66c77ab5d32a24a": {
      "model_module": "@jupyter-widgets/base",
      "model_module_version": "1.2.0",
      "model_name": "LayoutModel",
      "state": {
       "grid_area": "center",
       "min_height": "400px"
      }
     }
    },
    "version_major": 2,
    "version_minor": 0
   }
  }
 },
 "nbformat": 4,
 "nbformat_minor": 4
}

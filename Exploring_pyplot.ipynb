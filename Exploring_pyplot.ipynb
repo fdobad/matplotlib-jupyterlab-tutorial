{
 "cells": [
  {
   "cell_type": "code",
   "execution_count": 1,
   "metadata": {},
   "outputs": [],
   "source": [
    "%matplotlib widget\n",
    "import matplotlib.pyplot as plt\n",
    "import numpy as np"
   ]
  },
  {
   "cell_type": "markdown",
   "metadata": {},
   "source": [
    "# Usage guide samples\n",
    "From https://matplotlib.org/3.2.1/tutorials/introductory/usage.html  \n",
    "It is best to convert these to numpy.array objects prior to plotting:"
   ]
  },
  {
   "cell_type": "code",
   "execution_count": 2,
   "metadata": {},
   "outputs": [
    {
     "data": {
      "text/plain": [
       "array([[0.45462307, 0.44636896, 0.84273722, 0.23773472, 0.3213996 ],\n",
       "       [0.96370481, 0.88169228, 0.30198606, 0.78210755, 0.93287987],\n",
       "       [0.17270173, 0.14133819, 0.65615891, 0.05218537, 0.32331811],\n",
       "       [0.85739408, 0.36626487, 0.09843783, 0.06817097, 0.05942834]])"
      ]
     },
     "metadata": {},
     "output_type": "display_data"
    },
    {
     "data": {
      "text/plain": [
       "array([[1, 2],\n",
       "       [3, 4]])"
      ]
     },
     "metadata": {},
     "output_type": "display_data"
    },
    {
     "data": {
      "application/vnd.jupyter.widget-view+json": {
       "model_id": "6df4d8cbbe28486190ef9a7a57811af9",
       "version_major": 2,
       "version_minor": 0
      },
      "text/plain": [
       "Canvas(toolbar=Toolbar(toolitems=[('Home', 'Reset original view', 'home', 'home'), ('Back', 'Back to previous …"
      ]
     },
     "metadata": {},
     "output_type": "display_data"
    }
   ],
   "source": [
    "from pandas import DataFrame\n",
    "a = DataFrame(np.random.rand(4,5), columns = list('abcde'))\n",
    "a_asarray = a.values\n",
    "\n",
    "b = np.matrix([[1, 2], [3, 4]])\n",
    "b_asarray = np.asarray(b)\n",
    "\n",
    "display(a_asarray,b_asarray)\n",
    "plt.plot(a_asarray)\n",
    "plt.plot(b_asarray)\n",
    "plt.show()"
   ]
  },
  {
   "cell_type": "code",
   "execution_count": 3,
   "metadata": {},
   "outputs": [],
   "source": [
    "plt.close()"
   ]
  },
  {
   "cell_type": "code",
   "execution_count": 4,
   "metadata": {},
   "outputs": [
    {
     "data": {
      "application/vnd.jupyter.widget-view+json": {
       "model_id": "441307b4a3d94512b9c5ebcdb0f22982",
       "version_major": 2,
       "version_minor": 0
      },
      "text/plain": [
       "Canvas(toolbar=Toolbar(toolitems=[('Home', 'Reset original view', 'home', 'home'), ('Back', 'Back to previous …"
      ]
     },
     "metadata": {},
     "output_type": "display_data"
    },
    {
     "data": {
      "text/plain": [
       "<matplotlib.legend.Legend at 0x7f38e7af6240>"
      ]
     },
     "execution_count": 4,
     "metadata": {},
     "output_type": "execute_result"
    }
   ],
   "source": [
    "x = np.linspace(0, 2, 100)\n",
    "\n",
    "# Note that even in the OO-style, we use `.pyplot.figure` to create the figure.\n",
    "fig, ax = plt.subplots()  # Create a figure and an axes.\n",
    "ax.plot(x, x, label='linear')  # Plot some data on the axes.\n",
    "ax.plot(x, x**2, 'g-.', label='quadratic')  # Plot more data on the axes...\n",
    "ax.plot(x, x**3, label='cubic')  # ... and some more.\n",
    "ax.set_xlabel('x label')  # Add an x-label to the axes.\n",
    "ax.set_ylabel('y label')  # Add a y-label to the axes.\n",
    "ax.set_title(\"Simple Plot\")  # Add a title to the axes.\n",
    "ax.legend()  # Add a legend."
   ]
  },
  {
   "cell_type": "markdown",
   "metadata": {},
   "source": [
    "# Intro to pyplot\n",
    "\n",
    "From: https://matplotlib.org/3.2.1/tutorials/introductory/pyplot.html  \n",
    "\n",
    "Scroll at the end to download the original notebook: https://matplotlib.org/3.2.1/_downloads/8f46e9733d1ce7f9830abea476d2fecb/pyplot.ipynb\n",
    "\n",
    "matplotlib.pyplot is a collection of command style functions that make matplotlib work like MATLAB. Each pyplot function makes some change to a figure: e.g., creates a figure, creates a plotting area in a figure, plots some lines in a plotting area, decorates the plot with labels, etc.\n",
    "\n",
    "In matplotlib.pyplot various states are preserved across function calls, so that it keeps track of things like the current figure and plotting area, and the plotting functions are directed to the current axes (please note that \"axes\" here and in most places in the documentation refers to the axes part of a figure and not the strict mathematical term for more than one axis).\n",
    "\n",
    "**Note: the pyplot API is generally less-flexible than the object-oriented API. Most of the function calls you see here can also be called as methods from an Axes object. We recommend browsing the tutorials and examples to see how this works.**\n",
    "\n",
    "https://matplotlib.org/3.2.1/tutorials/introductory/sample_plots.html"
   ]
  },
  {
   "cell_type": "markdown",
   "metadata": {},
   "source": [
    "## What are Axis?\n",
    "\n",
    "From: https://matplotlib.org/3.2.1/tutorials/introductory/usage.html#figure-parts\n",
    "        \n",
    "**Figure**\n",
    "\n",
    "The whole figure. The figure keeps track of all the child Axes, a smattering of 'special' artists (titles, figure legends, etc), and the canvas. (Don't worry too much about the canvas, it is crucial as it is the object that actually does the drawing to get you your plot, but as the user it is more-or-less invisible to you). A figure can contain any number of Axes, but will typically have at least one.\n",
    "\n",
    "The easiest way to create a new figure is with pyplot:\n",
    "```\n",
    "fig = plt.figure()  # an empty figure with no Axes\n",
    "fig, ax = plt.subplots()  # a figure with a single Axes\n",
    "fig, axs = plt.subplots(2, 2)  # a figure with a 2x2 grid of Axes\n",
    "```\n",
    "It's convenient to create the axes together with the figure, but you can also add axes later on, allowing for more complex axes layouts.  \n",
    "\n",
    "| Argument | Default | Description |\n",
    "| --- | --- | ---| \n",
    "| num | 1 | number of figure |\n",
    "| figsize | figure.figsize | figure size in in inches (width, height) |\n",
    "| dpi | figure.dpi | resolution in dots per inch |\n",
    "| facecolor | figure.facecolor | color of the drawing background |\n",
    "| edgecolor | figure.edgecolor | color of edge around the drawing background |\n",
    "| frameon | True | draw figure frame or not |\n",
    "\n",
    "\n",
    "**Axes**\n",
    "\n",
    "__This is what you think of as 'a plot'__, it is the region of the image with the data space. __A given figure can contain many Axes, but a given Axes object can only be in one Figure.__ The Axes contains two (or three in the case of 3D) Axis objects (be aware of the difference between Axes and Axis) which take care of the data limits (the data limits can also be controlled via the `axes.Axes.set_xlim()` and `axes.Axes.set_ylim()` methods). Each Axes has a title (set via `set_title()`), an x-label (set via `set_xlabel()`), and a y-label set via `set_ylabel()`).\n",
    "\n",
    "The Axes class and its member functions are the primary entry point to working with the OO interface.  \n",
    "**Axis**\n",
    "\n",
    "These are the number-line-like objects. They take care of setting the graph limits and generating the ticks (the marks on the axis) and ticklabels (strings labeling the ticks). The location of the ticks is determined by a Locator object and the ticklabel strings are formatted by a Formatter. The combination of the correct Locator and Formatter gives very fine control over the tick locations and labels.\n",
    "\n",
    "![Figure Anatomy](matplotlib_Parts_of_a_Figure.png)\n"
   ]
  },
  {
   "cell_type": "markdown",
   "metadata": {},
   "source": [
    "## Figure some layout configuration options\n",
    "https://matplotlib.org/xkcd/examples/showcase/xkcd.html"
   ]
  },
  {
   "cell_type": "code",
   "execution_count": 8,
   "metadata": {},
   "outputs": [
    {
     "data": {
      "application/vnd.jupyter.widget-view+json": {
       "model_id": "21432e1baaad4e9aa951e1518d42a228",
       "version_major": 2,
       "version_minor": 0
      },
      "text/plain": [
       "Canvas(toolbar=Toolbar(toolitems=[('Home', 'Reset original view', 'home', 'home'), ('Back', 'Back to previous …"
      ]
     },
     "metadata": {},
     "output_type": "display_data"
    }
   ],
   "source": [
    "plt.close()\n",
    "#plt.xkcd()\n",
    "fig = plt.figure(num=0,figsize=(4,3),dpi=150,facecolor='gray',edgecolor='red') #dpi for newer screens is half\n",
    "ax = fig.subplots(1,1)\n",
    "fig.canvas.toolbar_visible = False\n",
    "fig.canvas.header_visible = False\n",
    "fig.canvas.footer_visible = False\n",
    "fig.canvas.resizable = False\n",
    "fig.canvas.capture_scroll = False\n",
    "ax.set_facecolor('xkcd:black')\n",
    "ax.spines['right'].set_color('none')\n",
    "ax.spines['top'].set_color('none')\n",
    "ax.spines['bottom'].set_color('red')\n",
    "ax.plot([1,3],[2,4],'go--',markeredgecolor='blue')\n",
    "plt.show()"
   ]
  },
  {
   "cell_type": "markdown",
   "metadata": {},
   "source": [
    "## Plot basic array, names and styles"
   ]
  },
  {
   "cell_type": "code",
   "execution_count": 9,
   "metadata": {},
   "outputs": [
    {
     "data": {
      "application/vnd.jupyter.widget-view+json": {
       "model_id": "5cfb473af30b4724badf503ef9269724",
       "version_major": 2,
       "version_minor": 0
      },
      "text/plain": [
       "Canvas(toolbar=Toolbar(toolitems=[('Home', 'Reset original view', 'home', 'home'), ('Back', 'Back to previous …"
      ]
     },
     "metadata": {},
     "output_type": "display_data"
    }
   ],
   "source": [
    "plt.close()\n",
    "\n",
    "plt.plot([1, 2, 3, 4])\n",
    "plt.ylabel('some numbers')\n",
    "fig.canvas.toolbar_position = 'right'\n",
    "plt.show()"
   ]
  },
  {
   "cell_type": "markdown",
   "metadata": {},
   "source": [
    "If you provide a single list or array to the plot() command, matplotlib assumes it is a sequence of y values, and automatically generates the x values for you. Since python ranges start with 0, the default x vector has the same length as y but starts with 0. Hence the x data are [0, 1, 2, 3]."
   ]
  },
  {
   "cell_type": "code",
   "execution_count": 10,
   "metadata": {},
   "outputs": [
    {
     "data": {
      "text/plain": [
       "[<matplotlib.lines.Line2D at 0x7f38e78d2828>]"
      ]
     },
     "execution_count": 10,
     "metadata": {},
     "output_type": "execute_result"
    }
   ],
   "source": [
    "plt.plot([1, 2, 3, 4], [1, 4, 9, 16])"
   ]
  },
  {
   "cell_type": "markdown",
   "metadata": {},
   "source": [
    "For every x, y pair of arguments, there is an optional third argument which is the format string that indicates the color and line type of the plot. The letters and symbols of the format string are from MATLAB, and you concatenate a color string with a line style string. The default format string is 'b-', which is a solid blue line. For example, to plot the above with red circles, you would issue:  \n",
    "-linestyle or ls = [ '-' | '--' | '-.' | ':' | 'steps' | ...]  \n",
    "-linewidth or lw =float value in points  \n",
    "-marker = [ '+' | ',' | '.' | '1' | '2' | '3' | '4' ]  \n",
    "https://matplotlib.org/3.2.1/api/_as_gen/matplotlib.lines.Line2D.html#matplotlib.lines.Line2D  \n",
    "https://matplotlib.org/3.2.1/api/markers_api.html#module-matplotlib.markers"
   ]
  },
  {
   "cell_type": "code",
   "execution_count": 11,
   "metadata": {},
   "outputs": [],
   "source": [
    "plt.plot([1, 2, 3, 4], [1, 4, 9, 16],  'g-.', marker='^') # fmt = '[marker][line][color]' linewidth=2, markersize=12\n",
    "plt.axis([0, 6, 0, 20]) # refers to [xleft, xright, ydown, yup] or  [xmin, xmax, ymin, ymax]\n",
    "plt.show()"
   ]
  },
  {
   "cell_type": "markdown",
   "metadata": {},
   "source": [
    "## Using Numpy dictionaries"
   ]
  },
  {
   "cell_type": "code",
   "execution_count": 12,
   "metadata": {},
   "outputs": [
    {
     "data": {
      "application/vnd.jupyter.widget-view+json": {
       "model_id": "22dd339ea884477181e65dbc35a99784",
       "version_major": 2,
       "version_minor": 0
      },
      "text/plain": [
       "Canvas(toolbar=Toolbar(toolitems=[('Home', 'Reset original view', 'home', 'home'), ('Back', 'Back to previous …"
      ]
     },
     "metadata": {},
     "output_type": "display_data"
    }
   ],
   "source": [
    "plt.close()\n",
    "import numpy as np\n",
    "\n",
    "# evenly sampled time at 200ms intervals\n",
    "t = np.arange(0., 5., 0.2)\n",
    "\n",
    "# red dashes, blue squares and green triangles\n",
    "plt.plot(t, t, 'r--', t, t**2, 'bs', t, t**3, 'g^')\n",
    "plt.show()"
   ]
  },
  {
   "cell_type": "code",
   "execution_count": 13,
   "metadata": {},
   "outputs": [
    {
     "data": {
      "application/vnd.jupyter.widget-view+json": {
       "model_id": "ba56ae0de22e47f5851879138de3fdca",
       "version_major": 2,
       "version_minor": 0
      },
      "text/plain": [
       "Canvas(toolbar=Toolbar(toolitems=[('Home', 'Reset original view', 'home', 'home'), ('Back', 'Back to previous …"
      ]
     },
     "metadata": {},
     "output_type": "display_data"
    },
    {
     "data": {
      "text/plain": [
       "{'a': array([ 0,  1,  2,  3,  4,  5,  6,  7,  8,  9, 10, 11, 12, 13, 14, 15, 16,\n",
       "        17, 18, 19, 20, 21, 22, 23, 24, 25, 26, 27, 28, 29, 30, 31, 32, 33,\n",
       "        34, 35, 36, 37, 38, 39, 40, 41, 42, 43, 44, 45, 46, 47, 48, 49]),\n",
       " 'c': array([ 5, 35, 12, 19, 21, 40,  9, 18,  8, 12, 20, 36, 32, 27,  1,  9, 49,\n",
       "        43, 41, 24, 28,  4,  1, 30,  1, 26,  5, 46,  1, 14, 36, 10, 46,  0,\n",
       "        45, 13, 40, 23, 16,  4,  1, 34, 35, 21, 48,  0, 19, 14, 13, 24]),\n",
       " 'd': array([164.13080001, 166.15797012,   6.85941702,   1.54741888,\n",
       "         97.85057049, 240.27749967,  95.177243  , 138.20208441,\n",
       "         41.54346052,  91.8375538 ,  53.2369478 ,  16.66308202,\n",
       "         55.23382368,  20.82930994,  44.92610404,  12.21448441,\n",
       "         26.5421098 ,  24.53129413,  71.13480864, 112.93991169,\n",
       "          3.54344519, 127.12829578, 122.72415956,  11.1181303 ,\n",
       "         29.97337425, 183.54278189,  87.51099278,  54.38658204,\n",
       "         22.08073535,  85.21165814,  73.08379897,  95.09306527,\n",
       "         51.86672491, 137.75123633,  45.37572193,  89.77754116,\n",
       "        104.22871648,  49.27189313, 137.426246  ,   3.3813494 ,\n",
       "         60.31116294,  51.54871208, 116.31197042, 123.39352147,\n",
       "         47.85899824,  98.50239956, 123.50738746,  17.43084861,\n",
       "         28.69438557,  48.99889313]),\n",
       " 'b': array([-9.56155432, -4.36452289,  0.96703564, 26.2055395 , -2.89442624,\n",
       "         2.04052194, 11.27994202,  0.11555339, 23.28110072, 13.75305563,\n",
       "        13.64527646,  7.95570662,  6.33183535,  2.59675575, 11.10982445,\n",
       "        45.71409667, 12.13409137, 19.43841557, 28.08638212,  6.42393115,\n",
       "        19.68499383, 17.77249401, 14.6085847 , 16.10613812, 25.11455738,\n",
       "        23.04797349, 33.47869   , 14.76922121, 15.60064003, 34.63153505,\n",
       "        34.81904977, 17.09950614, 35.85909073, 29.44381076, 36.93907471,\n",
       "        17.78979865, 26.21131369, 49.30194659, 43.53911439, 23.7391848 ,\n",
       "        45.6970981 , 35.2595553 , 24.06080545, 12.27997011, 44.12780452,\n",
       "        38.5142333 , 49.31956894, 72.32678984, 56.93539321, 30.5102616 ])}"
      ]
     },
     "metadata": {},
     "output_type": "display_data"
    },
    {
     "data": {
      "text/plain": [
       "(None, None)"
      ]
     },
     "execution_count": 13,
     "metadata": {},
     "output_type": "execute_result"
    }
   ],
   "source": [
    "plt.close()\n",
    "data = {'a': np.arange(50),\n",
    "        'c': np.random.randint(0, 50, 50),\n",
    "        'd': np.random.randn(50)}\n",
    "data['b'] = data['a'] + 10 * np.random.randn(50)\n",
    "data['d'] = np.abs(data['d']) * 100\n",
    "\n",
    "plt.scatter('a', 'b', c='c', s='d', data=data)\n",
    "plt.xlabel('entry a')\n",
    "plt.ylabel('entry b')\n",
    "plt.show(),display(data)"
   ]
  },
  {
   "cell_type": "markdown",
   "metadata": {},
   "source": [
    "## Plotting with categorical variables"
   ]
  },
  {
   "cell_type": "code",
   "execution_count": 14,
   "metadata": {},
   "outputs": [
    {
     "data": {
      "application/vnd.jupyter.widget-view+json": {
       "model_id": "4984cf70a14c45e9a144e0ae3d12c48c",
       "version_major": 2,
       "version_minor": 0
      },
      "text/plain": [
       "Canvas(toolbar=Toolbar(toolitems=[('Home', 'Reset original view', 'home', 'home'), ('Back', 'Back to previous …"
      ]
     },
     "metadata": {},
     "output_type": "display_data"
    }
   ],
   "source": [
    "plt.close()\n",
    "names = ['group_a', 'group_b', 'group_c']\n",
    "values = [1, 10, 100]\n",
    "plt.figure(figsize=(9, 3))\n",
    "plt.subplot(131)\n",
    "plt.bar(names, values)\n",
    "plt.subplot(132)\n",
    "plt.scatter(names, values)\n",
    "plt.subplot(133)\n",
    "plt.plot(names, values)\n",
    "plt.suptitle('Categorical Plotting')\n",
    "plt.show()"
   ]
  },
  {
   "cell_type": "markdown",
   "metadata": {},
   "source": [
    "# Working with multiple figures and axes  \n",
    "https://matplotlib.org/3.2.1/tutorials/introductory/pyplot.html#working-with-multiple-figures-and-axes  \n",
    "The `figure()` command here is optional because `figure(1)` will be created by default, just as a `subplot(111)` will be created by default if you don't manually specify any axes"
   ]
  },
  {
   "cell_type": "code",
   "execution_count": 15,
   "metadata": {},
   "outputs": [
    {
     "data": {
      "application/vnd.jupyter.widget-view+json": {
       "model_id": "f86d4f2c784947d1ab1d796f00485625",
       "version_major": 2,
       "version_minor": 0
      },
      "text/plain": [
       "Canvas(toolbar=Toolbar(toolitems=[('Home', 'Reset original view', 'home', 'home'), ('Back', 'Back to previous …"
      ]
     },
     "metadata": {},
     "output_type": "display_data"
    }
   ],
   "source": [
    "plt.close()\n",
    "def f(t):\n",
    "    return np.exp(-t) * np.cos(2*np.pi*t)\n",
    "\n",
    "t1 = np.arange(0.0, 5.0, 0.1)\n",
    "t2 = np.arange(0.0, 5.0, 0.02)\n",
    "\n",
    "plt.figure()\n",
    "plt.subplot(211)\n",
    "plt.plot(t1, f(t1), 'bo', t2, f(t2), 'k')\n",
    "\n",
    "plt.subplot(212)\n",
    "plt.plot(t2, np.cos(2*np.pi*t2), 'r--')\n",
    "plt.show()\n"
   ]
  },
  {
   "cell_type": "markdown",
   "metadata": {},
   "source": [
    "The `subplot()` command specifies numrows, numcols, plot_number where plot_number ranges from 1 to numrows*numcols. The commas in the subplot command are optional if numrows*numcols<10. So subplot(211) is identical to subplot(2, 1, 1)."
   ]
  },
  {
   "cell_type": "code",
   "execution_count": 16,
   "metadata": {},
   "outputs": [
    {
     "data": {
      "application/vnd.jupyter.widget-view+json": {
       "model_id": "b2bdfdd02fe24204abc128dd0bb24cc3",
       "version_major": 2,
       "version_minor": 0
      },
      "text/plain": [
       "Canvas(toolbar=Toolbar(toolitems=[('Home', 'Reset original view', 'home', 'home'), ('Back', 'Back to previous …"
      ]
     },
     "metadata": {},
     "output_type": "display_data"
    },
    {
     "data": {
      "application/vnd.jupyter.widget-view+json": {
       "model_id": "267e11553a74434897abdbb3fd956e46",
       "version_major": 2,
       "version_minor": 0
      },
      "text/plain": [
       "Canvas(toolbar=Toolbar(toolitems=[('Home', 'Reset original view', 'home', 'home'), ('Back', 'Back to previous …"
      ]
     },
     "metadata": {},
     "output_type": "display_data"
    },
    {
     "name": "stderr",
     "output_type": "stream",
     "text": [
      "/home/fdo/Source/py3env/lib/python3.7/site-packages/ipykernel_launcher.py:16: MatplotlibDeprecationWarning: Adding an axes using the same arguments as a previous axes currently reuses the earlier instance.  In a future version, a new instance will always be created and returned.  Meanwhile, this warning can be suppressed, and the future behavior ensured, by passing a unique label to each axes instance.\n",
      "  app.launch_new_instance()\n"
     ]
    }
   ],
   "source": [
    "plt.close()\n",
    "plt.figure(1)                # the first figure\n",
    "plt.subplot(211)             # the first subplot in the first figure\n",
    "plt.plot([1, 2, 3], 'g-')\n",
    "plt.axis([0, 2, 0, 4])\n",
    "\n",
    "plt.subplot(212)             # the second subplot in the first figure\n",
    "plt.plot([4, 5, 6], 'r^', ls='-')\n",
    "plt.axis([-0.1, 3, 3.9, 6.1])\n",
    "\n",
    "plt.figure(2)                # a second figure\n",
    "plt.plot([7, 8, 9])          # creates a subplot(111) by default\n",
    "plt.axis([-1, 3, 6, 10])\n",
    "\n",
    "plt.figure(1)                # figure 1 current; subplot(212) still current\n",
    "plt.subplot(211)             # make subplot(211) in figure1 current\n",
    "plt.title('Easy as 1, 2, 3') # subplot 211 title\n",
    "#plt.figure(2)  \n",
    "#plt.cla()\n",
    "plt.show()"
   ]
  },
  {
   "cell_type": "markdown",
   "metadata": {},
   "source": [
    "## A more complex example from the matplotlib gallery"
   ]
  },
  {
   "cell_type": "code",
   "execution_count": 17,
   "metadata": {},
   "outputs": [
    {
     "data": {
      "application/vnd.jupyter.widget-view+json": {
       "model_id": "277f3cfe3eed42aeba86286860e0252c",
       "version_major": 2,
       "version_minor": 0
      },
      "text/plain": [
       "Canvas(toolbar=Toolbar(toolitems=[('Home', 'Reset original view', 'home', 'home'), ('Back', 'Back to previous …"
      ]
     },
     "metadata": {},
     "output_type": "display_data"
    }
   ],
   "source": [
    "plt.close()\n",
    "np.random.seed(0)\n",
    "\n",
    "n_bins = 10\n",
    "x = np.random.randn(1000, 3)\n",
    "\n",
    "fig, axes = plt.subplots(nrows=2, ncols=2)\n",
    "ax0, ax1, ax2, ax3 = axes.flatten()\n",
    "\n",
    "colors = ['red', 'tan', 'lime']\n",
    "ax0.hist(x, n_bins, density=1, histtype='bar', color=colors, label=colors)\n",
    "ax0.legend(prop={'size': 10})\n",
    "ax0.set_title('bars with legend')\n",
    "\n",
    "ax1.hist(x, n_bins, density=1, histtype='bar', stacked=True)\n",
    "ax1.set_title('stacked bar')\n",
    "\n",
    "ax2.hist(x, n_bins, histtype='step', stacked=True, fill=False)\n",
    "ax2.set_title('stack step (unfilled)')\n",
    "\n",
    "# Make a multiple-histogram of data-sets with different length.\n",
    "x_multi = [np.random.randn(n) for n in [10000, 5000, 2000]]\n",
    "ax3.hist(x_multi, n_bins, histtype='bar')\n",
    "ax3.set_title('different sample sizes')\n",
    "\n",
    "fig.tight_layout()\n",
    "plt.show()"
   ]
  },
  {
   "cell_type": "markdown",
   "metadata": {},
   "source": [
    "## Clear figure, axes; Close figure"
   ]
  },
  {
   "cell_type": "markdown",
   "metadata": {},
   "source": [
    "You can clear the current figure with `clf()` and the current axes with `cla()`. If you are making lots of figures, you need to be aware of one more thing: the memory required for a figure is not completely released until the figure is explicitly closed with `close()`.  \n",
    "\n",
    "In depth: https://matplotlib.org/3.2.1/tutorials/intermediate/artists.html"
   ]
  },
  {
   "cell_type": "markdown",
   "metadata": {},
   "source": [
    "# working with text  \n",
    "https://matplotlib.org/3.2.1/tutorials/introductory/pyplot.html#working-with-text"
   ]
  },
  {
   "cell_type": "markdown",
   "metadata": {},
   "source": [
    "# Logarithmic and other nonlinear axes  \n",
    "Changing the scale of an axis is easy: `plt.xscale('log')`"
   ]
  },
  {
   "cell_type": "code",
   "execution_count": null,
   "metadata": {},
   "outputs": [],
   "source": [
    "plt.close()\n",
    "from matplotlib.ticker import NullFormatter  # useful for `logit` scale\n",
    "\n",
    "# Fixing random state for reproducibility\n",
    "np.random.seed(19680801)\n",
    "\n",
    "# make up some data in the open interval (0, 1)\n",
    "y = np.random.normal(loc=0.5, scale=0.4, size=1000)\n",
    "# filter\n",
    "y = y[(y > 0) & (y < 1)]\n",
    "y.sort()\n",
    "x = np.arange(len(y))\n",
    "\n",
    "# plot with various axes scales\n",
    "plt.figure()\n",
    "\n",
    "# linear\n",
    "plt.subplot(221)\n",
    "plt.plot(x, y)\n",
    "plt.yscale('linear')\n",
    "plt.title('linear')\n",
    "plt.grid(True)\n",
    "\n",
    "\n",
    "# log\n",
    "plt.subplot(222)\n",
    "plt.plot(x, y)\n",
    "plt.yscale('log')\n",
    "plt.title('log')\n",
    "plt.grid(True)\n",
    "\n",
    "\n",
    "# symmetric log\n",
    "plt.subplot(223)\n",
    "plt.plot(x, y - y.mean())\n",
    "'''\n",
    "/home/fdo/Source/py3env/lib/python3.7/site-packages/ipykernel_launcher.py:35: MatplotlibDeprecationWarning: \n",
    "The 'linthreshy' parameter of __init__() has been renamed 'linthresh' since Matplotlib 3.3; support for the old name will be dropped two minor releases later.\n",
    "'''\n",
    "plt.yscale('symlog', linthresh=0.01)\n",
    "plt.title('symlog')\n",
    "plt.grid(True)\n",
    "\n",
    "# logit\n",
    "plt.subplot(224)\n",
    "plt.plot(x, y)\n",
    "plt.yscale('logit')\n",
    "plt.title('logit')\n",
    "plt.grid(True)\n",
    "# Adjust the subplot layout, because the logit one may take more space\n",
    "# than usual, due to y-tick labels like \"1 - 10^{-3}\"\n",
    "plt.subplots_adjust(top=0.92, bottom=0.08, left=0.10, right=0.95, hspace=0.25,\n",
    "                    wspace=0.35)\n",
    "\n",
    "plt.show(),display(y[:10])"
   ]
  },
  {
   "cell_type": "markdown",
   "metadata": {},
   "source": [
    "# Contour(f)\n",
    "https://matplotlib.org/3.2.1/api/_as_gen/matplotlib.pyplot.contour.html#matplotlib.pyplot.contour"
   ]
  },
  {
   "cell_type": "code",
   "execution_count": null,
   "metadata": {},
   "outputs": [],
   "source": [
    "plt.close()\n",
    "Z=[[1,1,3],[1,2,1]]\n",
    "#Z=[[1,2],[3,4]]\n",
    "fig, ax = plt.subplots()\n",
    "#plt.clf()\n",
    "plt.contourf(Z, levels=3)\n",
    "plt.show()"
   ]
  },
  {
   "cell_type": "code",
   "execution_count": null,
   "metadata": {},
   "outputs": [],
   "source": [
    "plt.cla()\n",
    "plt.contour(Z, levels=3)\n",
    "plt.show()"
   ]
  },
  {
   "cell_type": "markdown",
   "metadata": {},
   "source": [
    "# Image, extend"
   ]
  },
  {
   "cell_type": "code",
   "execution_count": null,
   "metadata": {},
   "outputs": [],
   "source": [
    "plt.close()\n",
    "Z=np.array([[1,1,10],[1,2,1]],dtype=np.int32)\n",
    "plt.imshow(Z)"
   ]
  },
  {
   "cell_type": "code",
   "execution_count": null,
   "metadata": {},
   "outputs": [],
   "source": [
    "plt.close()\n",
    "plt.imshow(Z, aspect='equal', origin='lower', extent=(-2.5, 0.5, -2.5, -0.5))"
   ]
  },
  {
   "cell_type": "markdown",
   "metadata": {},
   "source": [
    "## general formula for extent"
   ]
  },
  {
   "cell_type": "code",
   "execution_count": null,
   "metadata": {},
   "outputs": [],
   "source": [
    "plt.close()\n",
    "from matplotlib import cm\n",
    "d = 0.5\n",
    "left, right = -2, 2\n",
    "bottom, top = -2, 2\n",
    "x = np.arange(left, right+d, d)\n",
    "y = np.arange(bottom, top+d, d)\n",
    "Rx, Ry = len(x), len(y)\n",
    "\n",
    "one_color_channel_image = rg.integers(1,256,size=(Rx, Ry))\n",
    "\n",
    "hshift = 0.5 * np.abs(right - left)/(2*Rx)\n",
    "ex_left, ex_right = left + hshift, right - hshift\n",
    "vshift = 0.5 * np.abs(top - bottom)/(2*Ry)\n",
    "ex_bottom, ex_top = bottom + vshift, top - vshift\n",
    "\n",
    "fig, (ax1,ax2) = plt.subplots(1,2)\n",
    "\n",
    "qm = ax1.pcolormesh(x, y, one_color_channel_image.transpose(), cmap=cm.terrain, shading='gouraud', antialiased=True)# auto\n",
    "\n",
    "axes_image = ax2.imshow( one_color_channel_image.transpose(), cmap=cm.turbo, interpolation='none', aspect='auto', origin='lower',\n",
    "                       extent=[ex_left, ex_right, ex_top, ex_bottom] )\n",
    "plt.show()"
   ]
  },
  {
   "cell_type": "markdown",
   "metadata": {},
   "source": [
    "# 3D surface (color map)"
   ]
  },
  {
   "cell_type": "code",
   "execution_count": null,
   "metadata": {},
   "outputs": [],
   "source": [
    "plt.close()"
   ]
  },
  {
   "cell_type": "code",
   "execution_count": null,
   "metadata": {},
   "outputs": [],
   "source": [
    "'''\n",
    "======================\n",
    "3D surface (color map)\n",
    "======================\n",
    "\n",
    "Demonstrates plotting a 3D surface colored with the coolwarm color map.\n",
    "The surface is made opaque by using antialiased=False.\n",
    "\n",
    "Also demonstrates using the LinearLocator and custom formatting for the\n",
    "z axis tick labels.\n",
    "'''\n",
    "\n",
    "from mpl_toolkits.mplot3d import Axes3D\n",
    "import matplotlib.pyplot as plt\n",
    "from matplotlib import cm\n",
    "from matplotlib.ticker import LinearLocator, FormatStrFormatter\n",
    "import numpy as np\n",
    "\n",
    "\n",
    "fig = plt.figure()\n",
    "ax = fig.gca(projection='3d')\n",
    "\n",
    "# Make data.\n",
    "X = np.arange(-5, 5, 0.25)\n",
    "Y = np.arange(-5, 5, 0.25)\n",
    "X, Y = np.meshgrid(X, Y)\n",
    "R = np.sqrt(X**2 + Y**2)\n",
    "Z = np.sin(R)\n",
    "\n",
    "# Plot the surface.\n",
    "surf = ax.plot_surface(X, Y, Z, cmap=cm.coolwarm,\n",
    "                       linewidth=0, antialiased=False)\n",
    "\n",
    "# Customize the z axis.\n",
    "ax.set_zlim (-1.01, 1.01)#(0, 256)\n",
    "ax.zaxis.set_major_locator(LinearLocator(10))\n",
    "ax.zaxis.set_major_formatter(FormatStrFormatter('%.02f'))\n",
    "\n",
    "# Add a color bar which maps values to colors.\n",
    "fig.colorbar(surf, shrink=0.5, aspect=5)\n",
    "\n",
    "plt.show()\n"
   ]
  },
  {
   "cell_type": "markdown",
   "metadata": {},
   "source": [
    "## QuadMesh Demo\n",
    "https://matplotlib.org/3.3.0/gallery/images_contours_and_fields/quadmesh_demo.html\n",
    "``` \n",
    "import matplotlib  \n",
    "matplotlib.axes.Axes.pcolormesh  \n",
    "matplotlib.pyplot.pcolormesh\n",
    "```"
   ]
  },
  {
   "cell_type": "code",
   "execution_count": null,
   "metadata": {},
   "outputs": [],
   "source": [
    "import copy\n",
    "\n",
    "from matplotlib import cm, pyplot as plt\n",
    "import numpy as np\n",
    "\n",
    "n = 4\n",
    "x = np.linspace(-1.5, 1.5, n)\n",
    "y = np.linspace(-1.5, 1.5, n * 2)\n",
    "X, Y = np.meshgrid(x, y)\n",
    "Qx = np.cos(Y) - np.cos(X)\n",
    "Qz = np.sin(Y) + np.sin(X)\n",
    "Z = np.sqrt(X**2 + Y**2) / 5\n",
    "Z = (Z - Z.min()) / (Z.max() - Z.min())\n",
    "\n",
    "# The color array can include masked values.\n",
    "Zm = np.ma.masked_where(np.abs(Qz) < 0.5 * np.max(Qz), Z)\n",
    "\n",
    "fig, axs = plt.subplots(nrows=1, ncols=3)\n",
    "axs[0].pcolormesh(Qx, Qz, Z, shading='gouraud')\n",
    "axs[0].set_title('Without masked values')\n",
    "\n",
    "# You can control the color of the masked region. We copy the default colormap\n",
    "# before modifying it.\n",
    "cmap = copy.copy(cm.get_cmap(plt.rcParams['image.cmap']))\n",
    "cmap.set_bad('y', 1.0)\n",
    "axs[1].pcolormesh(Qx, Qz, Zm, shading='gouraud', cmap=cmap)\n",
    "axs[1].set_title('With masked values')\n",
    "\n",
    "# Or use the default, which is transparent.\n",
    "axs[2].pcolormesh(Qx, Qz, Zm, shading='gouraud')\n",
    "axs[2].set_title('With masked values')\n",
    "\n",
    "fig.tight_layout()\n",
    "plt.show()"
   ]
  }
 ],
 "metadata": {
  "kernelspec": {
   "display_name": "Python 3",
   "language": "python",
   "name": "python3"
  },
  "language_info": {
   "codemirror_mode": {
    "name": "ipython",
    "version": 3
   },
   "file_extension": ".py",
   "mimetype": "text/x-python",
   "name": "python",
   "nbconvert_exporter": "python",
   "pygments_lexer": "ipython3",
   "version": "3.7.3"
  },
  "widgets": {
   "application/vnd.jupyter.widget-state+json": {
    "state": {
     "07c200b3be834d3a8be00e9d6ab1ef7d": {
      "model_module": "jupyter-matplotlib",
      "model_module_version": "^0.7.3",
      "model_name": "ToolbarModel",
      "state": {
       "layout": "IPY_MODEL_3d5ccdbd58024e7db0a75b4ee3102166",
       "toolitems": [
        [
         "Home",
         "Reset original view",
         "home",
         "home"
        ],
        [
         "Back",
         "Back to previous view",
         "arrow-left",
         "back"
        ],
        [
         "Forward",
         "Forward to next view",
         "arrow-right",
         "forward"
        ],
        [
         "Pan",
         "Left button pans, Right button zooms\nx/y fixes axis, CTRL fixes aspect",
         "arrows",
         "pan"
        ],
        [
         "Zoom",
         "Zoom to rectangle\nx/y fixes axis, CTRL fixes aspect",
         "square-o",
         "zoom"
        ],
        [
         "Download",
         "Download plot",
         "floppy-o",
         "save_figure"
        ]
       ]
      }
     },
     "07d581bb50ef4764be4594558a81af3e": {
      "model_module": "@jupyter-widgets/base",
      "model_module_version": "1.2.0",
      "model_name": "LayoutModel",
      "state": {}
     },
     "0cffd2cd8f9c428283c938a650659f62": {
      "model_module": "@jupyter-widgets/base",
      "model_module_version": "1.2.0",
      "model_name": "LayoutModel",
      "state": {}
     },
     "0e44efa1ae05490fbf3f6ddd1d2743ce": {
      "model_module": "@jupyter-widgets/base",
      "model_module_version": "1.2.0",
      "model_name": "LayoutModel",
      "state": {}
     },
     "1b6c014aabb842c6a0a56261b1551c6e": {
      "model_module": "jupyter-matplotlib",
      "model_module_version": "^0.7.3",
      "model_name": "ToolbarModel",
      "state": {
       "layout": "IPY_MODEL_5523bec54e4e49dd9fb7ba32520633f1",
       "toolitems": [
        [
         "Home",
         "Reset original view",
         "home",
         "home"
        ],
        [
         "Back",
         "Back to previous view",
         "arrow-left",
         "back"
        ],
        [
         "Forward",
         "Forward to next view",
         "arrow-right",
         "forward"
        ],
        [
         "Pan",
         "Left button pans, Right button zooms\nx/y fixes axis, CTRL fixes aspect",
         "arrows",
         "pan"
        ],
        [
         "Zoom",
         "Zoom to rectangle\nx/y fixes axis, CTRL fixes aspect",
         "square-o",
         "zoom"
        ],
        [
         "Download",
         "Download plot",
         "floppy-o",
         "save_figure"
        ]
       ]
      }
     },
     "1c0128b0cd53447f9e042f416ca36edd": {
      "model_module": "jupyter-matplotlib",
      "model_module_version": "^0.7.3",
      "model_name": "ToolbarModel",
      "state": {
       "layout": "IPY_MODEL_1f70812d4d6042089f13c3ed1ac37fc7",
       "toolitems": [
        [
         "Home",
         "Reset original view",
         "home",
         "home"
        ],
        [
         "Back",
         "Back to previous view",
         "arrow-left",
         "back"
        ],
        [
         "Forward",
         "Forward to next view",
         "arrow-right",
         "forward"
        ],
        [
         "Pan",
         "Left button pans, Right button zooms\nx/y fixes axis, CTRL fixes aspect",
         "arrows",
         "pan"
        ],
        [
         "Zoom",
         "Zoom to rectangle\nx/y fixes axis, CTRL fixes aspect",
         "square-o",
         "zoom"
        ],
        [
         "Download",
         "Download plot",
         "floppy-o",
         "save_figure"
        ]
       ]
      }
     },
     "1f70812d4d6042089f13c3ed1ac37fc7": {
      "model_module": "@jupyter-widgets/base",
      "model_module_version": "1.2.0",
      "model_name": "LayoutModel",
      "state": {}
     },
     "22bf2378945b4ef6981714c81ee6143d": {
      "model_module": "@jupyter-widgets/base",
      "model_module_version": "1.2.0",
      "model_name": "LayoutModel",
      "state": {}
     },
     "23242de51090447aac27be60abe7fd25": {
      "model_module": "jupyter-matplotlib",
      "model_module_version": "^0.7.3",
      "model_name": "ToolbarModel",
      "state": {
       "layout": "IPY_MODEL_0cffd2cd8f9c428283c938a650659f62",
       "toolitems": [
        [
         "Home",
         "Reset original view",
         "home",
         "home"
        ],
        [
         "Back",
         "Back to previous view",
         "arrow-left",
         "back"
        ],
        [
         "Forward",
         "Forward to next view",
         "arrow-right",
         "forward"
        ],
        [
         "Pan",
         "Left button pans, Right button zooms\nx/y fixes axis, CTRL fixes aspect",
         "arrows",
         "pan"
        ],
        [
         "Zoom",
         "Zoom to rectangle\nx/y fixes axis, CTRL fixes aspect",
         "square-o",
         "zoom"
        ],
        [
         "Download",
         "Download plot",
         "floppy-o",
         "save_figure"
        ]
       ]
      }
     },
     "232d324bc18841f79f9d6701dcc34cda": {
      "model_module": "@jupyter-widgets/base",
      "model_module_version": "1.2.0",
      "model_name": "LayoutModel",
      "state": {}
     },
     "23b5f50782e041899f373437c4d1d193": {
      "model_module": "@jupyter-widgets/base",
      "model_module_version": "1.2.0",
      "model_name": "LayoutModel",
      "state": {}
     },
     "26d7156fe4594bc7b05302a18f59123b": {
      "model_module": "jupyter-matplotlib",
      "model_module_version": "^0.7.3",
      "model_name": "ToolbarModel",
      "state": {
       "layout": "IPY_MODEL_a13775586cd541c8a1952dc2d8b1a817",
       "toolitems": [
        [
         "Home",
         "Reset original view",
         "home",
         "home"
        ],
        [
         "Back",
         "Back to previous view",
         "arrow-left",
         "back"
        ],
        [
         "Forward",
         "Forward to next view",
         "arrow-right",
         "forward"
        ],
        [
         "Pan",
         "Left button pans, Right button zooms\nx/y fixes axis, CTRL fixes aspect",
         "arrows",
         "pan"
        ],
        [
         "Zoom",
         "Zoom to rectangle\nx/y fixes axis, CTRL fixes aspect",
         "square-o",
         "zoom"
        ],
        [
         "Download",
         "Download plot",
         "floppy-o",
         "save_figure"
        ]
       ]
      }
     },
     "273a64c0a5eb488d99672ab938ec7a29": {
      "model_module": "jupyter-matplotlib",
      "model_module_version": "^0.7.3",
      "model_name": "ToolbarModel",
      "state": {
       "layout": "IPY_MODEL_89b1e3a2bdba4e648001e22f16f1e518",
       "toolitems": [
        [
         "Home",
         "Reset original view",
         "home",
         "home"
        ],
        [
         "Back",
         "Back to previous view",
         "arrow-left",
         "back"
        ],
        [
         "Forward",
         "Forward to next view",
         "arrow-right",
         "forward"
        ],
        [
         "Pan",
         "Left button pans, Right button zooms\nx/y fixes axis, CTRL fixes aspect",
         "arrows",
         "pan"
        ],
        [
         "Zoom",
         "Zoom to rectangle\nx/y fixes axis, CTRL fixes aspect",
         "square-o",
         "zoom"
        ],
        [
         "Download",
         "Download plot",
         "floppy-o",
         "save_figure"
        ]
       ]
      }
     },
     "283073aeafed4356ae3602c2a81faa2f": {
      "model_module": "@jupyter-widgets/base",
      "model_module_version": "1.2.0",
      "model_name": "LayoutModel",
      "state": {}
     },
     "3d5ccdbd58024e7db0a75b4ee3102166": {
      "model_module": "@jupyter-widgets/base",
      "model_module_version": "1.2.0",
      "model_name": "LayoutModel",
      "state": {}
     },
     "411a23b34c34420886af11fff85ec558": {
      "model_module": "jupyter-matplotlib",
      "model_module_version": "^0.7.3",
      "model_name": "ToolbarModel",
      "state": {
       "layout": "IPY_MODEL_f96d631e38bd4ac692890f49b26c0f37",
       "toolitems": [
        [
         "Home",
         "Reset original view",
         "home",
         "home"
        ],
        [
         "Back",
         "Back to previous view",
         "arrow-left",
         "back"
        ],
        [
         "Forward",
         "Forward to next view",
         "arrow-right",
         "forward"
        ],
        [
         "Pan",
         "Left button pans, Right button zooms\nx/y fixes axis, CTRL fixes aspect",
         "arrows",
         "pan"
        ],
        [
         "Zoom",
         "Zoom to rectangle\nx/y fixes axis, CTRL fixes aspect",
         "square-o",
         "zoom"
        ],
        [
         "Download",
         "Download plot",
         "floppy-o",
         "save_figure"
        ]
       ]
      }
     },
     "5523bec54e4e49dd9fb7ba32520633f1": {
      "model_module": "@jupyter-widgets/base",
      "model_module_version": "1.2.0",
      "model_name": "LayoutModel",
      "state": {}
     },
     "5abc25315e4d4151abe98b6558fee8a9": {
      "model_module": "jupyter-matplotlib",
      "model_module_version": "^0.7.3",
      "model_name": "ToolbarModel",
      "state": {
       "layout": "IPY_MODEL_b0cbb60926494ccc96ddbcab294e85b5",
       "toolitems": [
        [
         "Home",
         "Reset original view",
         "home",
         "home"
        ],
        [
         "Back",
         "Back to previous view",
         "arrow-left",
         "back"
        ],
        [
         "Forward",
         "Forward to next view",
         "arrow-right",
         "forward"
        ],
        [
         "Pan",
         "Left button pans, Right button zooms\nx/y fixes axis, CTRL fixes aspect",
         "arrows",
         "pan"
        ],
        [
         "Zoom",
         "Zoom to rectangle\nx/y fixes axis, CTRL fixes aspect",
         "square-o",
         "zoom"
        ],
        [
         "Download",
         "Download plot",
         "floppy-o",
         "save_figure"
        ]
       ]
      }
     },
     "5bf3314b5a024c5d9af9bbe9a0f0ddc7": {
      "model_module": "@jupyter-widgets/base",
      "model_module_version": "1.2.0",
      "model_name": "LayoutModel",
      "state": {}
     },
     "629f164c36ab44cfb85ce10142e7b95d": {
      "model_module": "@jupyter-widgets/base",
      "model_module_version": "1.2.0",
      "model_name": "LayoutModel",
      "state": {}
     },
     "69f9ccf4d3194006bf2ac3e6c430f6b9": {
      "model_module": "@jupyter-widgets/base",
      "model_module_version": "1.2.0",
      "model_name": "LayoutModel",
      "state": {}
     },
     "6ac37da2cf2d4b3393c6fd4b48320561": {
      "model_module": "@jupyter-widgets/base",
      "model_module_version": "1.2.0",
      "model_name": "LayoutModel",
      "state": {}
     },
     "7e369babb0f243f0ba0535db385760f7": {
      "model_module": "@jupyter-widgets/base",
      "model_module_version": "1.2.0",
      "model_name": "LayoutModel",
      "state": {}
     },
     "819ebb49121a43dc9fb7e77e7932ba2b": {
      "model_module": "jupyter-matplotlib",
      "model_module_version": "^0.7.3",
      "model_name": "ToolbarModel",
      "state": {
       "layout": "IPY_MODEL_d570bf3eef5e4ef0b3718201832d44f0",
       "toolitems": [
        [
         "Home",
         "Reset original view",
         "home",
         "home"
        ],
        [
         "Back",
         "Back to previous view",
         "arrow-left",
         "back"
        ],
        [
         "Forward",
         "Forward to next view",
         "arrow-right",
         "forward"
        ],
        [
         "Pan",
         "Left button pans, Right button zooms\nx/y fixes axis, CTRL fixes aspect",
         "arrows",
         "pan"
        ],
        [
         "Zoom",
         "Zoom to rectangle\nx/y fixes axis, CTRL fixes aspect",
         "square-o",
         "zoom"
        ],
        [
         "Download",
         "Download plot",
         "floppy-o",
         "save_figure"
        ]
       ]
      }
     },
     "83c0bcf029964a04937ac629fede34fb": {
      "model_module": "@jupyter-widgets/base",
      "model_module_version": "1.2.0",
      "model_name": "LayoutModel",
      "state": {}
     },
     "87b276b676404144acdd09c114505a6b": {
      "model_module": "jupyter-matplotlib",
      "model_module_version": "^0.7.3",
      "model_name": "ToolbarModel",
      "state": {
       "layout": "IPY_MODEL_d3bc46995bfc4f8b8cfd9fa56ff6a8ce",
       "toolitems": [
        [
         "Home",
         "Reset original view",
         "home",
         "home"
        ],
        [
         "Back",
         "Back to previous view",
         "arrow-left",
         "back"
        ],
        [
         "Forward",
         "Forward to next view",
         "arrow-right",
         "forward"
        ],
        [
         "Pan",
         "Left button pans, Right button zooms\nx/y fixes axis, CTRL fixes aspect",
         "arrows",
         "pan"
        ],
        [
         "Zoom",
         "Zoom to rectangle\nx/y fixes axis, CTRL fixes aspect",
         "square-o",
         "zoom"
        ],
        [
         "Download",
         "Download plot",
         "floppy-o",
         "save_figure"
        ]
       ]
      }
     },
     "89b1e3a2bdba4e648001e22f16f1e518": {
      "model_module": "@jupyter-widgets/base",
      "model_module_version": "1.2.0",
      "model_name": "LayoutModel",
      "state": {}
     },
     "9040335c4cc6410fa7d2fbff29aeaff5": {
      "model_module": "jupyter-matplotlib",
      "model_module_version": "^0.7.3",
      "model_name": "ToolbarModel",
      "state": {
       "layout": "IPY_MODEL_e2388d92dbcc4addb3ea63fddb577b08",
       "toolitems": [
        [
         "Home",
         "Reset original view",
         "home",
         "home"
        ],
        [
         "Back",
         "Back to previous view",
         "arrow-left",
         "back"
        ],
        [
         "Forward",
         "Forward to next view",
         "arrow-right",
         "forward"
        ],
        [
         "Pan",
         "Left button pans, Right button zooms\nx/y fixes axis, CTRL fixes aspect",
         "arrows",
         "pan"
        ],
        [
         "Zoom",
         "Zoom to rectangle\nx/y fixes axis, CTRL fixes aspect",
         "square-o",
         "zoom"
        ],
        [
         "Download",
         "Download plot",
         "floppy-o",
         "save_figure"
        ]
       ]
      }
     },
     "944ee15c14f24720868d2a632bea2f4f": {
      "model_module": "@jupyter-widgets/base",
      "model_module_version": "1.2.0",
      "model_name": "LayoutModel",
      "state": {}
     },
     "a13775586cd541c8a1952dc2d8b1a817": {
      "model_module": "@jupyter-widgets/base",
      "model_module_version": "1.2.0",
      "model_name": "LayoutModel",
      "state": {}
     },
     "ab4347ed93af45fe82726c67b708581f": {
      "model_module": "jupyter-matplotlib",
      "model_module_version": "^0.7.3",
      "model_name": "ToolbarModel",
      "state": {
       "layout": "IPY_MODEL_cc89370e19f94f8093719759c388e702",
       "toolitems": [
        [
         "Home",
         "Reset original view",
         "home",
         "home"
        ],
        [
         "Back",
         "Back to previous view",
         "arrow-left",
         "back"
        ],
        [
         "Forward",
         "Forward to next view",
         "arrow-right",
         "forward"
        ],
        [
         "Pan",
         "Left button pans, Right button zooms\nx/y fixes axis, CTRL fixes aspect",
         "arrows",
         "pan"
        ],
        [
         "Zoom",
         "Zoom to rectangle\nx/y fixes axis, CTRL fixes aspect",
         "square-o",
         "zoom"
        ],
        [
         "Download",
         "Download plot",
         "floppy-o",
         "save_figure"
        ]
       ]
      }
     },
     "b0cbb60926494ccc96ddbcab294e85b5": {
      "model_module": "@jupyter-widgets/base",
      "model_module_version": "1.2.0",
      "model_name": "LayoutModel",
      "state": {}
     },
     "bbba8e53851541479ece99c41f0911a0": {
      "model_module": "jupyter-matplotlib",
      "model_module_version": "^0.7.3",
      "model_name": "ToolbarModel",
      "state": {
       "layout": "IPY_MODEL_5bf3314b5a024c5d9af9bbe9a0f0ddc7",
       "toolitems": [
        [
         "Home",
         "Reset original view",
         "home",
         "home"
        ],
        [
         "Back",
         "Back to previous view",
         "arrow-left",
         "back"
        ],
        [
         "Forward",
         "Forward to next view",
         "arrow-right",
         "forward"
        ],
        [
         "Pan",
         "Left button pans, Right button zooms\nx/y fixes axis, CTRL fixes aspect",
         "arrows",
         "pan"
        ],
        [
         "Zoom",
         "Zoom to rectangle\nx/y fixes axis, CTRL fixes aspect",
         "square-o",
         "zoom"
        ],
        [
         "Download",
         "Download plot",
         "floppy-o",
         "save_figure"
        ]
       ]
      }
     },
     "c3f6c4f656e2439fa0c75ad520dccb0e": {
      "model_module": "@jupyter-widgets/base",
      "model_module_version": "1.2.0",
      "model_name": "LayoutModel",
      "state": {}
     },
     "cc89370e19f94f8093719759c388e702": {
      "model_module": "@jupyter-widgets/base",
      "model_module_version": "1.2.0",
      "model_name": "LayoutModel",
      "state": {}
     },
     "d3bc46995bfc4f8b8cfd9fa56ff6a8ce": {
      "model_module": "@jupyter-widgets/base",
      "model_module_version": "1.2.0",
      "model_name": "LayoutModel",
      "state": {}
     },
     "d570bf3eef5e4ef0b3718201832d44f0": {
      "model_module": "@jupyter-widgets/base",
      "model_module_version": "1.2.0",
      "model_name": "LayoutModel",
      "state": {}
     },
     "e2388d92dbcc4addb3ea63fddb577b08": {
      "model_module": "@jupyter-widgets/base",
      "model_module_version": "1.2.0",
      "model_name": "LayoutModel",
      "state": {}
     },
     "e54fca4bc8d94792a0041211cdb433f1": {
      "model_module": "@jupyter-widgets/base",
      "model_module_version": "1.2.0",
      "model_name": "LayoutModel",
      "state": {}
     },
     "f2f2dba476ce40a796d664b1bc177334": {
      "model_module": "@jupyter-widgets/base",
      "model_module_version": "1.2.0",
      "model_name": "LayoutModel",
      "state": {}
     },
     "f96d631e38bd4ac692890f49b26c0f37": {
      "model_module": "@jupyter-widgets/base",
      "model_module_version": "1.2.0",
      "model_name": "LayoutModel",
      "state": {}
     },
     "fc29eb1b21cb4194914732e308c79487": {
      "model_module": "jupyter-matplotlib",
      "model_module_version": "^0.7.3",
      "model_name": "ToolbarModel",
      "state": {
       "layout": "IPY_MODEL_07d581bb50ef4764be4594558a81af3e",
       "toolitems": [
        [
         "Home",
         "Reset original view",
         "home",
         "home"
        ],
        [
         "Back",
         "Back to previous view",
         "arrow-left",
         "back"
        ],
        [
         "Forward",
         "Forward to next view",
         "arrow-right",
         "forward"
        ],
        [
         "Pan",
         "Left button pans, Right button zooms\nx/y fixes axis, CTRL fixes aspect",
         "arrows",
         "pan"
        ],
        [
         "Zoom",
         "Zoom to rectangle\nx/y fixes axis, CTRL fixes aspect",
         "square-o",
         "zoom"
        ],
        [
         "Download",
         "Download plot",
         "floppy-o",
         "save_figure"
        ]
       ]
      }
     }
    },
    "version_major": 2,
    "version_minor": 0
   }
  }
 },
 "nbformat": 4,
 "nbformat_minor": 4
}
